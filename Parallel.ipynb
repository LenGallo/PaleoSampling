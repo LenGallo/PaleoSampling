{
 "cells": [
  {
   "cell_type": "markdown",
   "id": "5fc66e74-33de-4cb6-84d4-78f7d2458507",
   "metadata": {},
   "source": [
    "# Parallelization with Dask"
   ]
  },
  {
   "cell_type": "code",
   "execution_count": 1,
   "id": "be704178-b377-4aad-9721-7ccfda710765",
   "metadata": {},
   "outputs": [],
   "source": [
    "import numpy as np\n",
    "import ipyparallel as ipp\n",
    "import itertools\n",
    "from distributed import progress\n",
    "import pandas as pd\n",
    "from typing import NamedTuple\n",
    "\n",
    "import smpsite.smpsite as smp"
   ]
  },
  {
   "cell_type": "markdown",
   "id": "baf2420d-458c-4610-8af1-8969d94f7bbd",
   "metadata": {},
   "source": [
    "## 1. Dask Setup"
   ]
  },
  {
   "cell_type": "code",
   "execution_count": 2,
   "id": "72c37c60-3c68-481e-988f-e94044ed540d",
   "metadata": {},
   "outputs": [
    {
     "name": "stdout",
     "output_type": "stream",
     "text": [
      "Starting 3 engines with <class 'ipyparallel.cluster.launcher.LocalEngineSetLauncher'>\n"
     ]
    },
    {
     "data": {
      "application/vnd.jupyter.widget-view+json": {
       "model_id": "20cb435d66124ff3b3140923637dfc4d",
       "version_major": 2,
       "version_minor": 0
      },
      "text/plain": [
       "  0%|          | 0/3 [00:00<?, ?engine/s]"
      ]
     },
     "metadata": {},
     "output_type": "display_data"
    }
   ],
   "source": [
    "rc = ipp.Cluster(n=3).start_and_connect_sync()"
   ]
  },
  {
   "cell_type": "code",
   "execution_count": 3,
   "id": "b4545345-401c-47c5-9f4d-cefb312b0826",
   "metadata": {},
   "outputs": [
    {
     "data": {
      "text/html": [
       "<div>\n",
       "    <div style=\"width: 24px; height: 24px; background-color: #e1e1e1; border: 3px solid #9D9D9D; border-radius: 5px; position: absolute;\"> </div>\n",
       "    <div style=\"margin-left: 48px;\">\n",
       "        <h3 style=\"margin-bottom: 0px;\">Client</h3>\n",
       "        <p style=\"color: #9D9D9D; margin-bottom: 0px;\">Client-d823ff34-d825-11ed-85cb-1e89c7c5df0b</p>\n",
       "        <table style=\"width: 100%; text-align: left;\">\n",
       "\n",
       "        <tr>\n",
       "        \n",
       "            <td style=\"text-align: left;\"><strong>Connection method:</strong> Direct</td>\n",
       "            <td style=\"text-align: left;\"></td>\n",
       "        \n",
       "        </tr>\n",
       "\n",
       "        \n",
       "            <tr>\n",
       "                <td style=\"text-align: left;\">\n",
       "                    <strong>Dashboard: </strong> <a href=\"/user/facusapienza21/proxy/8787/status\" target=\"_blank\">/user/facusapienza21/proxy/8787/status</a>\n",
       "                </td>\n",
       "                <td style=\"text-align: left;\"></td>\n",
       "            </tr>\n",
       "        \n",
       "\n",
       "        </table>\n",
       "\n",
       "        \n",
       "            <details>\n",
       "            <summary style=\"margin-bottom: 20px;\"><h3 style=\"display: inline;\">Scheduler Info</h3></summary>\n",
       "            <div style=\"\">\n",
       "    <div>\n",
       "        <div style=\"width: 24px; height: 24px; background-color: #FFF7E5; border: 3px solid #FF6132; border-radius: 5px; position: absolute;\"> </div>\n",
       "        <div style=\"margin-left: 48px;\">\n",
       "            <h3 style=\"margin-bottom: 0px;\">Scheduler</h3>\n",
       "            <p style=\"color: #9D9D9D; margin-bottom: 0px;\">Scheduler-97e9e1d6-3959-4263-89fa-6bd47e3cbfc1</p>\n",
       "            <table style=\"width: 100%; text-align: left;\">\n",
       "                <tr>\n",
       "                    <td style=\"text-align: left;\">\n",
       "                        <strong>Comm:</strong> tcp://192.168.17.58:45047\n",
       "                    </td>\n",
       "                    <td style=\"text-align: left;\">\n",
       "                        <strong>Workers:</strong> 0\n",
       "                    </td>\n",
       "                </tr>\n",
       "                <tr>\n",
       "                    <td style=\"text-align: left;\">\n",
       "                        <strong>Dashboard:</strong> <a href=\"/user/facusapienza21/proxy/8787/status\" target=\"_blank\">/user/facusapienza21/proxy/8787/status</a>\n",
       "                    </td>\n",
       "                    <td style=\"text-align: left;\">\n",
       "                        <strong>Total threads:</strong> 0\n",
       "                    </td>\n",
       "                </tr>\n",
       "                <tr>\n",
       "                    <td style=\"text-align: left;\">\n",
       "                        <strong>Started:</strong> Just now\n",
       "                    </td>\n",
       "                    <td style=\"text-align: left;\">\n",
       "                        <strong>Total memory:</strong> 0 B\n",
       "                    </td>\n",
       "                </tr>\n",
       "            </table>\n",
       "        </div>\n",
       "    </div>\n",
       "\n",
       "    <details style=\"margin-left: 48px;\">\n",
       "        <summary style=\"margin-bottom: 20px;\">\n",
       "            <h3 style=\"display: inline;\">Workers</h3>\n",
       "        </summary>\n",
       "\n",
       "        \n",
       "\n",
       "    </details>\n",
       "</div>\n",
       "            </details>\n",
       "        \n",
       "\n",
       "    </div>\n",
       "</div>"
      ],
      "text/plain": [
       "<Client: 'tcp://192.168.17.58:45047' processes=0 threads=0, memory=0 B>"
      ]
     },
     "execution_count": 3,
     "metadata": {},
     "output_type": "execute_result"
    }
   ],
   "source": [
    "dask_client = rc.become_dask()\n",
    "dask_client"
   ]
  },
  {
   "cell_type": "code",
   "execution_count": 4,
   "id": "88cd514d-e7d4-4996-9f6d-00e9aa1b8068",
   "metadata": {},
   "outputs": [
    {
     "data": {
      "text/plain": [
       "3"
      ]
     },
     "execution_count": 4,
     "metadata": {},
     "output_type": "execute_result"
    }
   ],
   "source": [
    "# Check to see if the threads are ready\n",
    "dview = rc[:]\n",
    "len(dview)"
   ]
  },
  {
   "cell_type": "markdown",
   "id": "373fe361-a6da-47ea-a128-3fafa86ad4cf",
   "metadata": {},
   "source": [
    "## 2. Macro function definition"
   ]
  },
  {
   "cell_type": "code",
   "execution_count": 56,
   "id": "906c0ac0-2869-40b6-9387-adea7f191202",
   "metadata": {},
   "outputs": [],
   "source": [
    "def ipp_simulate_estimations(n,\n",
    "                             k,\n",
    "                             kappa_within_site, \n",
    "                             site_lat,\n",
    "                             site_long,\n",
    "                             outlier_rate, \n",
    "                             secular_method,\n",
    "                             kappa_secular, \n",
    "                             ignore_outliers, \n",
    "                             seed):\n",
    "    \n",
    "    class Params(NamedTuple):\n",
    "        \"\"\"\n",
    "        Macro to encapsulate all the parameters in the sampling model.\n",
    "        \"\"\"\n",
    "\n",
    "        # Number of sites\n",
    "        n : int\n",
    "        # Number of samples per site\n",
    "        k : int\n",
    "\n",
    "        # Concentration parameter within site\n",
    "        kappa_within_site : float    \n",
    "\n",
    "        # Latitude and longitude of site\n",
    "        site_lat  : float \n",
    "        site_long : float\n",
    "\n",
    "        # Proportion of outliers to be sampled from uniform distribution\n",
    "        outlier_rate : float\n",
    "\n",
    "        # Method to sample secular variation. Options are (\"tk03\", \"G\", \"Fisher\")\n",
    "        secular_method : str \n",
    "        kappa_secular : float    # Just needed for Fisher sampler\n",
    "        \n",
    "    params = Params(n=n,\n",
    "                    k=k, \n",
    "                    kappa_within_site=kappa_within_site,\n",
    "                    site_lat=site_lat, \n",
    "                    site_long=site_long, \n",
    "                    outlier_rate=outlier_rate, \n",
    "                    secular_method=secular_method,\n",
    "                    kappa_secular=kappa_secular)\n",
    "    \n",
    "    df_tot = smp.simulate_estimations(params, \n",
    "                                      n_iters=1000,\n",
    "                                      ignore_outliers=ignore_outliers, \n",
    "                                      seed=seed)\n",
    "    \n",
    "    stats = dict(df_tot['error_angle'].describe(percentiles=[.05, .25, .50, .75, .95]))\n",
    "    df = pd.DataFrame.from_dict({'error_angle_mean': [stats['mean']], \n",
    "                                 'error_angle_median': [stats['50%']], \n",
    "                                 'error_angle_95': [stats['95%']],\n",
    "                                 'error_angle_std': [stats['std']]})\n",
    "    \n",
    "    df['n_tot'] = n * k \n",
    "    df['n'] = n\n",
    "    df['k'] = k\n",
    "    df['kappa_within_site'] = kappa_within_site\n",
    "    df['site_lat'] = site_lat\n",
    "    df['site_long'] = site_long\n",
    "    df['outlier_rate'] = outlier_rate\n",
    "    df['secular_method'] = secular_method\n",
    "    df['kappa_secular'] = kappa_secular\n",
    "    df['ignore_outliers'] = ignore_outliers\n",
    "    \n",
    "    return df"
   ]
  },
  {
   "cell_type": "markdown",
   "id": "850a9ed8-136f-451d-9a6a-35d57a96dd1a",
   "metadata": {},
   "source": [
    "## 3. Parameter space exploration"
   ]
  },
  {
   "cell_type": "code",
   "execution_count": 64,
   "id": "a640a0e1-a44a-44a9-9788-5f3f995e0a13",
   "metadata": {},
   "outputs": [
    {
     "name": "stdout",
     "output_type": "stream",
     "text": [
      "Total number of simulations:  577\n"
     ]
    }
   ],
   "source": [
    "min_n, max_n = 1, 300\n",
    "\n",
    "params_iter = {'n': np.arange(1, 41, 1),\n",
    "               'k': np.arange(1, 21, 1), \n",
    "               'kappa_within_site': 10 ** np.linspace(1,3,1),\n",
    "               'site_lat': [30.0],\n",
    "               'site_long': [0.0], \n",
    "               'outlier_rate': [0.0],\n",
    "               'secular_method': [\"G\"], \n",
    "               'kappa_secular': [None],\n",
    "               'ignore_outliers': [False]}\n",
    "\n",
    "params_iter_mesh = np.meshgrid(*[params_iter[key] for key in params_iter.keys()])\n",
    "\n",
    "for i, key in enumerate(params_iter.keys()):\n",
    "    params_iter[key] = params_iter_mesh[i].ravel()\n",
    "    \n",
    "all_n_tot = params_iter['n'] * params_iter['k']\n",
    "valid_index = (min_n <= all_n_tot) & (all_n_tot <= max_n)\n",
    "\n",
    "n_tasks = np.sum(valid_index)\n",
    "print(\"Total number of simulations: \", n_tasks)\n",
    "\n",
    "indices = np.arange(n_tasks)\n",
    "np.random.shuffle(indices)\n",
    "\n",
    "for key in params_iter.keys():\n",
    "    params_iter[key] = params_iter[key][valid_index]\n",
    "    # Shuffle\n",
    "    params_iter[key] = params_iter[key][indices]\n",
    "\n",
    "params_iter[\"seed\"] = np.random.randint(0, 2**32-1, n_tasks)"
   ]
  },
  {
   "cell_type": "markdown",
   "id": "08d0337c-3fd4-430d-b641-aeaca5dbc4f6",
   "metadata": {},
   "source": [
    "## 4. Run Simulation"
   ]
  },
  {
   "cell_type": "code",
   "execution_count": 58,
   "id": "a0eaa538-bff3-4bef-affa-26a0ecc8ef09",
   "metadata": {},
   "outputs": [
    {
     "data": {
      "application/vnd.jupyter.widget-view+json": {
       "model_id": "d13de58f88e94efd9e440ad1624f4dd3",
       "version_major": 2,
       "version_minor": 0
      },
      "text/plain": [
       "VBox()"
      ]
     },
     "metadata": {},
     "output_type": "display_data"
    }
   ],
   "source": [
    "task = dask_client.map(ipp_simulate_estimations, \n",
    "                       params_iter['n'],\n",
    "                       params_iter['k'],\n",
    "                       params_iter['kappa_within_site'], \n",
    "                       params_iter['site_lat'], \n",
    "                       params_iter['site_long'], \n",
    "                       params_iter['outlier_rate'],\n",
    "                       params_iter['secular_method'], \n",
    "                       params_iter['kappa_secular'], \n",
    "                       params_iter['ignore_outliers'], \n",
    "                       params_iter['seed'])\n",
    "\n",
    "res = dask_client.submit(pd.concat, task)\n",
    "\n",
    "progress(res)"
   ]
  },
  {
   "cell_type": "code",
   "execution_count": 59,
   "id": "3a948948-d973-4ac1-a197-05243bd5f605",
   "metadata": {},
   "outputs": [],
   "source": [
    "df_all = res.result()\n",
    "# df_all.to_csv('outputs/run_compared_4000samples.csv')"
   ]
  },
  {
   "cell_type": "code",
   "execution_count": 60,
   "id": "eb3ef814-7229-4e5b-9198-f7c2646d9905",
   "metadata": {},
   "outputs": [
    {
     "data": {
      "text/html": [
       "<div>\n",
       "<style scoped>\n",
       "    .dataframe tbody tr th:only-of-type {\n",
       "        vertical-align: middle;\n",
       "    }\n",
       "\n",
       "    .dataframe tbody tr th {\n",
       "        vertical-align: top;\n",
       "    }\n",
       "\n",
       "    .dataframe thead th {\n",
       "        text-align: right;\n",
       "    }\n",
       "</style>\n",
       "<table border=\"1\" class=\"dataframe\">\n",
       "  <thead>\n",
       "    <tr style=\"text-align: right;\">\n",
       "      <th></th>\n",
       "      <th>error_angle_mean</th>\n",
       "      <th>error_angle_median</th>\n",
       "      <th>error_angle_95</th>\n",
       "      <th>error_angle_std</th>\n",
       "      <th>n_tot</th>\n",
       "      <th>n</th>\n",
       "      <th>k</th>\n",
       "      <th>kappa_within_site</th>\n",
       "      <th>site_lat</th>\n",
       "      <th>site_long</th>\n",
       "      <th>outlier_rate</th>\n",
       "      <th>secular_method</th>\n",
       "      <th>kappa_secular</th>\n",
       "      <th>ignore_outliers</th>\n",
       "    </tr>\n",
       "  </thead>\n",
       "  <tbody>\n",
       "    <tr>\n",
       "      <th>0</th>\n",
       "      <td>14.122582</td>\n",
       "      <td>13.329890</td>\n",
       "      <td>27.742470</td>\n",
       "      <td>7.425255</td>\n",
       "      <td>13</td>\n",
       "      <td>1</td>\n",
       "      <td>13</td>\n",
       "      <td>10.0</td>\n",
       "      <td>30.0</td>\n",
       "      <td>0.0</td>\n",
       "      <td>0.0</td>\n",
       "      <td>G</td>\n",
       "      <td>None</td>\n",
       "      <td>False</td>\n",
       "    </tr>\n",
       "    <tr>\n",
       "      <th>0</th>\n",
       "      <td>10.395443</td>\n",
       "      <td>9.806610</td>\n",
       "      <td>20.917339</td>\n",
       "      <td>5.723314</td>\n",
       "      <td>9</td>\n",
       "      <td>9</td>\n",
       "      <td>1</td>\n",
       "      <td>10.0</td>\n",
       "      <td>30.0</td>\n",
       "      <td>0.0</td>\n",
       "      <td>0.0</td>\n",
       "      <td>G</td>\n",
       "      <td>None</td>\n",
       "      <td>False</td>\n",
       "    </tr>\n",
       "    <tr>\n",
       "      <th>0</th>\n",
       "      <td>17.280755</td>\n",
       "      <td>15.689302</td>\n",
       "      <td>35.645657</td>\n",
       "      <td>9.583187</td>\n",
       "      <td>3</td>\n",
       "      <td>3</td>\n",
       "      <td>1</td>\n",
       "      <td>10.0</td>\n",
       "      <td>30.0</td>\n",
       "      <td>0.0</td>\n",
       "      <td>0.0</td>\n",
       "      <td>G</td>\n",
       "      <td>None</td>\n",
       "      <td>False</td>\n",
       "    </tr>\n",
       "    <tr>\n",
       "      <th>0</th>\n",
       "      <td>8.188252</td>\n",
       "      <td>7.621620</td>\n",
       "      <td>16.800650</td>\n",
       "      <td>4.485665</td>\n",
       "      <td>18</td>\n",
       "      <td>6</td>\n",
       "      <td>3</td>\n",
       "      <td>10.0</td>\n",
       "      <td>30.0</td>\n",
       "      <td>0.0</td>\n",
       "      <td>0.0</td>\n",
       "      <td>G</td>\n",
       "      <td>None</td>\n",
       "      <td>False</td>\n",
       "    </tr>\n",
       "    <tr>\n",
       "      <th>0</th>\n",
       "      <td>12.578811</td>\n",
       "      <td>11.730220</td>\n",
       "      <td>24.931701</td>\n",
       "      <td>6.797665</td>\n",
       "      <td>10</td>\n",
       "      <td>2</td>\n",
       "      <td>5</td>\n",
       "      <td>10.0</td>\n",
       "      <td>30.0</td>\n",
       "      <td>0.0</td>\n",
       "      <td>0.0</td>\n",
       "      <td>G</td>\n",
       "      <td>None</td>\n",
       "      <td>False</td>\n",
       "    </tr>\n",
       "    <tr>\n",
       "      <th>...</th>\n",
       "      <td>...</td>\n",
       "      <td>...</td>\n",
       "      <td>...</td>\n",
       "      <td>...</td>\n",
       "      <td>...</td>\n",
       "      <td>...</td>\n",
       "      <td>...</td>\n",
       "      <td>...</td>\n",
       "      <td>...</td>\n",
       "      <td>...</td>\n",
       "      <td>...</td>\n",
       "      <td>...</td>\n",
       "      <td>...</td>\n",
       "      <td>...</td>\n",
       "    </tr>\n",
       "    <tr>\n",
       "      <th>0</th>\n",
       "      <td>10.417143</td>\n",
       "      <td>9.369512</td>\n",
       "      <td>21.432937</td>\n",
       "      <td>5.884800</td>\n",
       "      <td>10</td>\n",
       "      <td>5</td>\n",
       "      <td>2</td>\n",
       "      <td>10.0</td>\n",
       "      <td>30.0</td>\n",
       "      <td>0.0</td>\n",
       "      <td>0.0</td>\n",
       "      <td>G</td>\n",
       "      <td>None</td>\n",
       "      <td>False</td>\n",
       "    </tr>\n",
       "    <tr>\n",
       "      <th>0</th>\n",
       "      <td>13.880164</td>\n",
       "      <td>12.629885</td>\n",
       "      <td>27.816486</td>\n",
       "      <td>7.689912</td>\n",
       "      <td>18</td>\n",
       "      <td>1</td>\n",
       "      <td>18</td>\n",
       "      <td>10.0</td>\n",
       "      <td>30.0</td>\n",
       "      <td>0.0</td>\n",
       "      <td>0.0</td>\n",
       "      <td>G</td>\n",
       "      <td>None</td>\n",
       "      <td>False</td>\n",
       "    </tr>\n",
       "    <tr>\n",
       "      <th>0</th>\n",
       "      <td>13.250358</td>\n",
       "      <td>12.346505</td>\n",
       "      <td>26.099292</td>\n",
       "      <td>7.064937</td>\n",
       "      <td>20</td>\n",
       "      <td>1</td>\n",
       "      <td>20</td>\n",
       "      <td>10.0</td>\n",
       "      <td>30.0</td>\n",
       "      <td>0.0</td>\n",
       "      <td>0.0</td>\n",
       "      <td>G</td>\n",
       "      <td>None</td>\n",
       "      <td>False</td>\n",
       "    </tr>\n",
       "    <tr>\n",
       "      <th>0</th>\n",
       "      <td>13.879134</td>\n",
       "      <td>13.229521</td>\n",
       "      <td>26.992426</td>\n",
       "      <td>7.295405</td>\n",
       "      <td>15</td>\n",
       "      <td>1</td>\n",
       "      <td>15</td>\n",
       "      <td>10.0</td>\n",
       "      <td>30.0</td>\n",
       "      <td>0.0</td>\n",
       "      <td>0.0</td>\n",
       "      <td>G</td>\n",
       "      <td>None</td>\n",
       "      <td>False</td>\n",
       "    </tr>\n",
       "    <tr>\n",
       "      <th>0</th>\n",
       "      <td>7.326765</td>\n",
       "      <td>6.871197</td>\n",
       "      <td>14.022479</td>\n",
       "      <td>3.952533</td>\n",
       "      <td>19</td>\n",
       "      <td>19</td>\n",
       "      <td>1</td>\n",
       "      <td>10.0</td>\n",
       "      <td>30.0</td>\n",
       "      <td>0.0</td>\n",
       "      <td>0.0</td>\n",
       "      <td>G</td>\n",
       "      <td>None</td>\n",
       "      <td>False</td>\n",
       "    </tr>\n",
       "  </tbody>\n",
       "</table>\n",
       "<p>66 rows × 14 columns</p>\n",
       "</div>"
      ],
      "text/plain": [
       "    error_angle_mean  error_angle_median  error_angle_95  error_angle_std  \\\n",
       "0          14.122582           13.329890       27.742470         7.425255   \n",
       "0          10.395443            9.806610       20.917339         5.723314   \n",
       "0          17.280755           15.689302       35.645657         9.583187   \n",
       "0           8.188252            7.621620       16.800650         4.485665   \n",
       "0          12.578811           11.730220       24.931701         6.797665   \n",
       "..               ...                 ...             ...              ...   \n",
       "0          10.417143            9.369512       21.432937         5.884800   \n",
       "0          13.880164           12.629885       27.816486         7.689912   \n",
       "0          13.250358           12.346505       26.099292         7.064937   \n",
       "0          13.879134           13.229521       26.992426         7.295405   \n",
       "0           7.326765            6.871197       14.022479         3.952533   \n",
       "\n",
       "    n_tot   n   k  kappa_within_site  site_lat  site_long  outlier_rate  \\\n",
       "0      13   1  13               10.0      30.0        0.0           0.0   \n",
       "0       9   9   1               10.0      30.0        0.0           0.0   \n",
       "0       3   3   1               10.0      30.0        0.0           0.0   \n",
       "0      18   6   3               10.0      30.0        0.0           0.0   \n",
       "0      10   2   5               10.0      30.0        0.0           0.0   \n",
       "..    ...  ..  ..                ...       ...        ...           ...   \n",
       "0      10   5   2               10.0      30.0        0.0           0.0   \n",
       "0      18   1  18               10.0      30.0        0.0           0.0   \n",
       "0      20   1  20               10.0      30.0        0.0           0.0   \n",
       "0      15   1  15               10.0      30.0        0.0           0.0   \n",
       "0      19  19   1               10.0      30.0        0.0           0.0   \n",
       "\n",
       "   secular_method kappa_secular  ignore_outliers  \n",
       "0               G          None            False  \n",
       "0               G          None            False  \n",
       "0               G          None            False  \n",
       "0               G          None            False  \n",
       "0               G          None            False  \n",
       "..            ...           ...              ...  \n",
       "0               G          None            False  \n",
       "0               G          None            False  \n",
       "0               G          None            False  \n",
       "0               G          None            False  \n",
       "0               G          None            False  \n",
       "\n",
       "[66 rows x 14 columns]"
      ]
     },
     "execution_count": 60,
     "metadata": {},
     "output_type": "execute_result"
    }
   ],
   "source": [
    "df_all"
   ]
  },
  {
   "cell_type": "code",
   "execution_count": null,
   "id": "de63a5b1-b9bc-4922-a170-d4e56a593c4d",
   "metadata": {},
   "outputs": [],
   "source": []
  },
  {
   "cell_type": "code",
   "execution_count": null,
   "id": "4e41e274-2286-4baa-b06a-4f1ef128b8b8",
   "metadata": {},
   "outputs": [],
   "source": []
  },
  {
   "cell_type": "code",
   "execution_count": null,
   "id": "d0cff13c-5cda-45cf-9aed-0db7c831ec05",
   "metadata": {},
   "outputs": [],
   "source": []
  },
  {
   "cell_type": "code",
   "execution_count": null,
   "id": "f1ce1178-f205-41ee-ac6e-813c5a0a7963",
   "metadata": {},
   "outputs": [],
   "source": []
  },
  {
   "cell_type": "code",
   "execution_count": null,
   "id": "a817aa20-fa64-42c9-b557-00b3ed9d2174",
   "metadata": {},
   "outputs": [],
   "source": []
  },
  {
   "cell_type": "code",
   "execution_count": null,
   "id": "12393db9-28ef-4271-8581-d4c1f4239658",
   "metadata": {},
   "outputs": [],
   "source": []
  },
  {
   "cell_type": "code",
   "execution_count": 55,
   "id": "81cc3cb4-dfea-4ec3-8f35-5c7bd3344b5d",
   "metadata": {},
   "outputs": [
    {
     "data": {
      "text/plain": [
       "(8000,)"
      ]
     },
     "execution_count": 55,
     "metadata": {},
     "output_type": "execute_result"
    }
   ],
   "source": [
    "all_n_tot.shape"
   ]
  },
  {
   "cell_type": "code",
   "execution_count": 49,
   "id": "af20b20e-59da-494c-8c7e-2c4438ae89b5",
   "metadata": {},
   "outputs": [
    {
     "data": {
      "text/plain": [
       "array([False, False, False, ..., False, False, False])"
      ]
     },
     "execution_count": 49,
     "metadata": {},
     "output_type": "execute_result"
    }
   ],
   "source": [
    "valid_index"
   ]
  },
  {
   "cell_type": "code",
   "execution_count": null,
   "id": "d6262c53-b174-4a9d-935a-3ac8952c761b",
   "metadata": {},
   "outputs": [],
   "source": []
  },
  {
   "cell_type": "code",
   "execution_count": 8,
   "id": "3c302b49-162c-4b80-90e3-af74568669a3",
   "metadata": {},
   "outputs": [],
   "source": [
    "min_n_tot = 50\n",
    "max_n_tot = 50\n",
    "\n",
    "all_n = np.arange(1, 41, 1)\n",
    "all_k = np.arange(1, 20, 1)\n",
    "all_kappa_within_site = 10 ** np.linspace(1,3,10)\n",
    "all_site_lat = np.arange(0, 81, 10)\n",
    "all_site_long = [0]\n",
    "all_outlier_rate = [0.0]\n",
    "all_secular_method = [\"Fisher\"]\n",
    "all_kappa_secular = 10 ** np.linspace(1,3,10)\n",
    "all_ignore_outliers = [True]\n",
    "\n",
    "\n",
    "# all_angular_within_site = np.arange(1, 20, 10)\n",
    "all_kappa_within_site = 10 ** np.linspace(1,3,10)\n",
    "all_site_lat = np.arange(0, 91, 10)\n",
    "all_outlier_rate = [0.00, 0.05, 0.10, 0.20]#, 0.05, 0.25]\n",
    "all_n = [50,10] #np.arange(1,21)\n",
    "all_k = [1,5] #np.arange(1,41)\n",
    "all_site_lon = [0]\n",
    "all_ignore_outliers = [True]"
   ]
  },
  {
   "cell_type": "code",
   "execution_count": 24,
   "id": "eb195dbc-487c-4c8f-94d3-f5b44f0a5988",
   "metadata": {},
   "outputs": [
    {
     "name": "stdout",
     "output_type": "stream",
     "text": [
      "[1, 2, 3]\n",
      "[1.1, 1.2, 1.3]\n"
     ]
    },
    {
     "data": {
      "text/plain": [
       "[1, 2, 3]"
      ]
     },
     "execution_count": 24,
     "metadata": {},
     "output_type": "execute_result"
    }
   ],
   "source": [
    "a = [1,2,3]\n",
    "b = [1.1, 1.2,1.3]\n",
    "\n",
    "c = [a,b]\n",
    "c_ = np.meshgrid(*c)\n",
    "for l in c:\n",
    "    print(l)\n",
    "    l = c[1]\n",
    "a"
   ]
  },
  {
   "cell_type": "code",
   "execution_count": null,
   "id": "b4a370f5-7fbb-47d2-8ce5-0b3b94d4d6a0",
   "metadata": {},
   "outputs": [],
   "source": []
  },
  {
   "cell_type": "code",
   "execution_count": null,
   "id": "0cc1a48c-292c-4b19-a605-27f19a28f1f1",
   "metadata": {},
   "outputs": [],
   "source": [
    "all_kappa_within_site, all_site_lat, all_outlier_rate, all_n, \\\n",
    "all_k, all_site_lon, all_ignore_outliers \\\n",
    "= np.meshgrid(all_kappa_within_site, all_site_lat, \\\n",
    "                       all_outlier_rate, all_n, all_k, \\\n",
    "                         all_site_lon, all_ignore_outliers)\n",
    "\n",
    "all_kappa_within_site = all_kappa_within_site.ravel()\n",
    "all_site_lat = all_site_lat.ravel()\n",
    "all_outlier_rate = all_outlier_rate.ravel()\n",
    "all_n = all_n.ravel()\n",
    "all_k = all_k.ravel()\n",
    "all_site_lon = all_site_lon.ravel()\n",
    "all_ignore_outliers = all_ignore_outliers.ravel()\n",
    "\n",
    "all_N = all_n * all_k \n",
    "valid_index = (min_N <= all_N) & (all_N <= max_N) \n",
    "\n",
    "all_kappa_within_site = all_kappa_within_site[valid_index]\n",
    "all_site_lat = all_site_lat[valid_index]\n",
    "all_outlier_rate = all_outlier_rate[valid_index]\n",
    "all_n = all_n[valid_index]\n",
    "all_k = all_k[valid_index]\n",
    "all_site_lon = all_site_lon[valid_index]\n",
    "all_ignore_outliers = all_ignore_outliers[valid_index]\n",
    "\n",
    "\n",
    "n_tasks = len(all_n)\n",
    "all_seed = np.random.randint(0, 2**32-1, n_tasks)"
   ]
  },
  {
   "cell_type": "code",
   "execution_count": null,
   "id": "53dcecc7-e186-46c4-9a00-fe10edc82390",
   "metadata": {},
   "outputs": [],
   "source": []
  },
  {
   "cell_type": "code",
   "execution_count": null,
   "id": "9da8ca77-25aa-45b0-8394-d5c948c16b9c",
   "metadata": {},
   "outputs": [],
   "source": []
  },
  {
   "cell_type": "code",
   "execution_count": null,
   "id": "ba8cd31b-2d07-46ec-9e9e-786d45135223",
   "metadata": {},
   "outputs": [],
   "source": []
  },
  {
   "cell_type": "code",
   "execution_count": null,
   "id": "111be708-35da-42c7-be74-cd17df229115",
   "metadata": {},
   "outputs": [],
   "source": []
  },
  {
   "cell_type": "code",
   "execution_count": null,
   "id": "4d579f15-4abf-42e3-be1b-71e6fc45d6af",
   "metadata": {},
   "outputs": [],
   "source": []
  },
  {
   "cell_type": "code",
   "execution_count": null,
   "id": "022d5deb-2728-4a5a-9d20-1fbd6bf44ce6",
   "metadata": {},
   "outputs": [],
   "source": []
  },
  {
   "cell_type": "code",
   "execution_count": 5,
   "id": "e20a2d5d-6bce-4b0f-ab31-abbdbf6e43ae",
   "metadata": {},
   "outputs": [],
   "source": [
    "def ipp_simulate_estimations(kappa_within_site, \n",
    "                             site_lat,\n",
    "                             outlier_rate,\n",
    "                             n,\n",
    "                             k,\n",
    "                             site_lon,\n",
    "                             ignore_outliers,\n",
    "                             seed):\n",
    "    \n",
    "    # If we don't include the definition of the class inside the code, this returns this weird message error... why? \n",
    "    class Params(NamedTuple):\n",
    "\n",
    "        kappa_within_site : float    \n",
    "        site_lat : float\n",
    "        outlier_rate : float\n",
    "        n : int\n",
    "        k : int    \n",
    "        site_lon : float\n",
    "\n",
    "    params = Params(kappa_within_site=kappa_within_site, \n",
    "                    site_lat=site_lat,\n",
    "                    outlier_rate=outlier_rate,\n",
    "                    n=n,\n",
    "                    k=k,\n",
    "                    site_lon=site_lon)\n",
    "    \n",
    "    df_tot = smp.simulate_estimations(params, \n",
    "                                      n_iters=4000, \n",
    "                                      ignore_outliers=ignore_outliers,\n",
    "                                      seed=seed)\n",
    "    \n",
    "    stats = dict(df_tot['error_angle'].describe(percentiles=[.05, .25, .50, .75, .95]))\n",
    "    df = pd.DataFrame.from_dict({'error_angle_mean': [stats['mean']], \n",
    "                                 'error_angle_median': [stats['50%']], \n",
    "                                 'error_angle_95': [stats['95%']]\n",
    "                                 'error_angle_std': [stats['std']]})\n",
    "    \n",
    "    df['n_tot'] = n * k \n",
    "    df['n'] = n\n",
    "    df['k'] = k\n",
    "    df['kappa_within_site'] = kappa_within_site\n",
    "    df['site_lat'] = site_lat\n",
    "    df['outlier_rate'] = outlier_rate\n",
    "    df['ignore_outliers'] = ignore_outliers\n",
    "    df[\"site_long\"] = site_lon\n",
    "    \n",
    "    return df"
   ]
  },
  {
   "cell_type": "markdown",
   "id": "8f2129d8-86a3-449f-b6ae-f72b091e4715",
   "metadata": {},
   "source": [
    "We need to set the structure for the parallel simulations with different parameters. "
   ]
  },
  {
   "cell_type": "code",
   "execution_count": 6,
   "id": "6be38c4c-0d98-434e-8567-8ae1f9176fa4",
   "metadata": {},
   "outputs": [],
   "source": [
    "min_N = 50\n",
    "max_N = 50\n",
    "\n",
    "# all_angular_within_site = np.arange(1, 20, 10)\n",
    "all_kappa_within_site = 10 ** np.linspace(1,3,10)\n",
    "all_site_lat = np.arange(0, 91, 10)\n",
    "all_outlier_rate = [0.00, 0.05, 0.10, 0.20]#, 0.05, 0.25]\n",
    "all_n = [50,10] #np.arange(1,21)\n",
    "all_k = [1,5] #np.arange(1,41)\n",
    "all_site_lon = [0]\n",
    "all_ignore_outliers = [True]\n",
    "\n",
    "all_kappa_within_site, all_site_lat, all_outlier_rate, all_n, \\\n",
    "all_k, all_site_lon, all_ignore_outliers \\\n",
    "= np.meshgrid(all_kappa_within_site, all_site_lat, \\\n",
    "                       all_outlier_rate, all_n, all_k, \\\n",
    "                         all_site_lon, all_ignore_outliers)\n",
    "\n",
    "all_kappa_within_site = all_kappa_within_site.ravel()\n",
    "all_site_lat = all_site_lat.ravel()\n",
    "all_outlier_rate = all_outlier_rate.ravel()\n",
    "all_n = all_n.ravel()\n",
    "all_k = all_k.ravel()\n",
    "all_site_lon = all_site_lon.ravel()\n",
    "all_ignore_outliers = all_ignore_outliers.ravel()\n",
    "\n",
    "all_N = all_n * all_k \n",
    "valid_index = (min_N <= all_N) & (all_N <= max_N) \n",
    "\n",
    "all_kappa_within_site = all_kappa_within_site[valid_index]\n",
    "all_site_lat = all_site_lat[valid_index]\n",
    "all_outlier_rate = all_outlier_rate[valid_index]\n",
    "all_n = all_n[valid_index]\n",
    "all_k = all_k[valid_index]\n",
    "all_site_lon = all_site_lon[valid_index]\n",
    "all_ignore_outliers = all_ignore_outliers[valid_index]\n",
    "\n",
    "\n",
    "n_tasks = len(all_n)\n",
    "all_seed = np.random.randint(0, 2**32-1, n_tasks)"
   ]
  },
  {
   "cell_type": "code",
   "execution_count": 7,
   "id": "986c5869-b057-4e38-bf83-ae1016433fc7",
   "metadata": {},
   "outputs": [],
   "source": [
    "all_ignore_outliers = all_k == 5"
   ]
  },
  {
   "cell_type": "code",
   "execution_count": 8,
   "id": "6a89a8a7-1cbb-47c3-af16-81aec079c26f",
   "metadata": {},
   "outputs": [
    {
     "data": {
      "text/plain": [
       "(800, 800, 800, 800, 800, 800, 800)"
      ]
     },
     "execution_count": 8,
     "metadata": {},
     "output_type": "execute_result"
    }
   ],
   "source": [
    "len(all_kappa_within_site), len(all_site_lat), len(all_outlier_rate), \\\n",
    "len(all_n), len(all_k), len(all_site_lon), len(all_ignore_outliers)"
   ]
  },
  {
   "cell_type": "code",
   "execution_count": 9,
   "id": "58fe9a7c-b447-4dd1-883b-e0faa191c2f8",
   "metadata": {},
   "outputs": [
    {
     "data": {
      "application/vnd.jupyter.widget-view+json": {
       "model_id": "ec05ba5bb75d4f1f8e2bf9d3490e7641",
       "version_major": 2,
       "version_minor": 0
      },
      "text/plain": [
       "VBox()"
      ]
     },
     "metadata": {},
     "output_type": "display_data"
    }
   ],
   "source": [
    "task = dask_client.map(ipp_simulate_estimations, all_kappa_within_site, \\\n",
    "                       all_site_lat, all_outlier_rate, all_n, \\\n",
    "                       all_k, all_site_lon, all_ignore_outliers, all_seed)\n",
    "\n",
    "res = dask_client.submit(pd.concat, task)\n",
    "\n",
    "progress(res)"
   ]
  },
  {
   "cell_type": "code",
   "execution_count": null,
   "id": "5748df23-f86d-4dc2-9dea-d1d9f6de8398",
   "metadata": {},
   "outputs": [],
   "source": [
    "df_all = res.result()\n",
    "df_all.to_csv('outputs/run_compared_4000samples.csv')"
   ]
  },
  {
   "cell_type": "code",
   "execution_count": null,
   "id": "bc21123b-6f42-41fa-b7c0-41772900b5f5",
   "metadata": {},
   "outputs": [],
   "source": []
  }
 ],
 "metadata": {
  "kernelspec": {
   "display_name": "Python [conda env:.conda-paleostats]",
   "language": "python",
   "name": "conda-env-.conda-paleostats-py"
  },
  "language_info": {
   "codemirror_mode": {
    "name": "ipython",
    "version": 3
   },
   "file_extension": ".py",
   "mimetype": "text/x-python",
   "name": "python",
   "nbconvert_exporter": "python",
   "pygments_lexer": "ipython3",
   "version": "3.10.2"
  }
 },
 "nbformat": 4,
 "nbformat_minor": 5
}

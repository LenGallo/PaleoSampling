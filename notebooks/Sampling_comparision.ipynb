{
 "cells": [
  {
   "cell_type": "markdown",
   "id": "d1dd31bc-d251-49fe-85e9-26efafac52af",
   "metadata": {},
   "source": [
    "# Paleomagnetic Sampling"
   ]
  },
  {
   "cell_type": "code",
   "execution_count": 1,
   "id": "262aa4fa-b0fb-4098-b9b2-a643b17a3787",
   "metadata": {},
   "outputs": [
    {
     "name": "stderr",
     "output_type": "stream",
     "text": [
      "ERROR 1: PROJ: proj_create_from_database: Open of /srv/conda/envs/notebook/share/proj failed\n"
     ]
    }
   ],
   "source": [
    "import numpy as np\n",
    "import pandas as pd\n",
    "import matplotlib.pyplot as plt\n",
    "import seaborn as sns\n",
    "\n",
    "import pmagpy.pmag as pmag\n",
    "import pmagpy.ipmag as ipmag\n",
    "\n",
    "import smpsite as smp\n",
    "\n",
    "import warnings \n",
    "warnings.filterwarnings('ignore')\n",
    "\n",
    "%matplotlib inline"
   ]
  },
  {
   "cell_type": "markdown",
   "id": "11db379a-7ec1-4b37-87d1-828d19102eff",
   "metadata": {},
   "source": [
    "## Setup \n",
    "\n",
    "Our goal is to estimate the paleomagnetic pole $\\mu$ for a given period of time or age. For doing so, we are going to recollec a number $N_k$ samples from $K$ different sites, $k=1,2,\\ldots,K$. For each site, consequence of secular variation, we are not observing directly $\\mu$, but instead $\\mu_k$ as a result of secular variations of the magnetic field. If we compute the Fisher mean $\\hat \\mu_k$ (the hat symbol will be used always for statistical inferences, in opposition to the _true_ value of the pole), then we hope that the new Fisher mean $\\hat \\mu$ of the $\\hat \\mu_k$s will give us a estimate for the paleomagnetic poles that will average out the secular variation. The question we are trying to address here is what is the best recollection design of the $N = N_1 + \\ldots + N_K$ sample poles that will lead to a better estimation of the final paleomagnetic pole $\\mu$. \n",
    "\n",
    "We are going to consider the following statistical model for how the sample poles are generated. \n",
    "$$\n",
    "\\mu_k \\sim \\text{Fisher}(\\mu, \\kappa_\\text{secular}) \\quad k=1,2,\\ldots,K\n",
    "$$\n",
    "$$\n",
    "x_{k,j} \\sim \\text{Fisher}(\\mu_k, \\kappa_\\text{vgp}) \\quad \\text{with probability $1-p$ and } \n",
    "$$\n",
    "$$\n",
    "x_{k,j} \\sim \\text{Unif}(S^2) \\quad \\text{otherwise} \\quad j=1,2,\\ldots,N_k,\n",
    "$$\n",
    "where $\\kappa_\\text{secular}$ and $\\kappa_\\text{vgp}$ are the dispersion parameters of the Fisher distribution. The parameter $p$ has been added to quantify the effect of outliers in the sampling process. With probability $1-p$ we are going to observe a verical sample of the magnetic field, while with probability $p$ our sample will be corrupted and instead we will observe an spourious medition, modelled by an uniform distribution on the sphere, that is, no information at all about the orientation of the true field. \n",
    "\n",
    "We are going to compare two different strategies for estimating the paleomagnetic pole $\\mu$:\n",
    "- Method 1: Compute the Fisher mean of ALL the sample points afor each site and then compute a second Fisher mean of these site vgps to obtain a final estimation of the true paleomagnetic pole.\n",
    "- Method 2: Assume we are perfectly able to detect outliers, so we can repeat Method 1 after removing those sample points that are clearly ourliers. \n",
    "\n",
    "Since we want to know what is the choice of $N_1, N_2, \\ldots, N_K$ that will lead to the best estimation of the paleomagnetic pole, we are going to compare these two methods for different strategies. For example, if $N_k$ is large enought then we may be in the case where we can use Method 2, and then we will compare it with the performance of Method 1 when $N_1 = \\ldots = N_K = 1$, for example."
   ]
  },
  {
   "cell_type": "code",
   "execution_count": null,
   "id": "5c16ca97-32cc-4cab-8afc-9d5a8b6ab1e2",
   "metadata": {},
   "outputs": [],
   "source": [
    "%%time\n",
    "\n",
    "angular_dispersio_within_site = 20 # degrees\n",
    "kappa_within_site = smp.angular2kappa(angular_dispersio_within_site)\n",
    "latitude = 30\n",
    "outlier_rate = 0.40\n",
    "n_iters = 1000\n",
    "\n",
    "params1 = smp.Params(N=200,\n",
    "                     n0=1,\n",
    "                     kappa_within_site=kappa_within_site,\n",
    "                     site_lat=latitude, \n",
    "                     site_long=0,\n",
    "                     outlier_rate=outlier_rate,\n",
    "                     secular_method=\"G\",\n",
    "                     kappa_secular=None)\n",
    "\n",
    "params2 = smp.Params(N=40,\n",
    "                     n0=5,\n",
    "                     kappa_within_site=kappa_within_site,\n",
    "                     site_lat=latitude, \n",
    "                     site_long=0,\n",
    "                     outlier_rate=outlier_rate,\n",
    "                     secular_method=\"G\",\n",
    "                     kappa_secular=None)\n",
    "\n",
    "df_more_sites = smp.simulate_estimations(params1, n_iters=n_iters, ignore_outliers='vandamme')\n",
    "df_less_sites = smp.simulate_estimations(params2, n_iters=n_iters, ignore_outliers=True)"
   ]
  },
  {
   "cell_type": "code",
   "execution_count": null,
   "id": "f0863458-1d3d-421f-8c50-d1cb25782446",
   "metadata": {},
   "outputs": [],
   "source": [
    "fig, axes = plt.subplots(nrows=1, ncols=1, figsize=(10,8))\n",
    "\n",
    "sns.histplot(df_more_sites.error_angle, ax=axes, color='#e84118', stat='probability', binwidth=.5, binrange=(0,20), alpha=.7)\n",
    "sns.histplot(df_less_sites.error_angle, ax=axes, color='#0097e6', stat='probability', binwidth=.5, binrange=(0,20), alpha=.7)\n",
    "\n",
    "textstr = '\\n'.join((\n",
    "r'$RMSE Method 1=%.2f$ (more sites)' % (np.mean(df_more_sites.error_angle**2)**.5, ),\n",
    "r'$RMSE Method 2=%.2f$ (less sites)' % (np.mean(df_less_sites.error_angle**2)**.5, )))\n",
    "props = dict(boxstyle='round', facecolor='wheat', alpha=0.5)\n",
    "# place a text box in upper left in axes coords\n",
    "plt.text(0.65, 0.95, textstr, transform=axes.transAxes, fontsize=14,\n",
    "        verticalalignment='top', bbox=props);"
   ]
  },
  {
   "cell_type": "markdown",
   "id": "4f4d83a2-f7fa-45c8-9c1f-19e16700ebbf",
   "metadata": {},
   "source": [
    "## Theoretical compatision"
   ]
  },
  {
   "cell_type": "markdown",
   "id": "43a4bac1-bc0d-4f3f-bb5e-55d45282efd2",
   "metadata": {},
   "source": [
    "Now, we can compare how these numerical simulations compare with the theoretical results. The following numbers should match:"
   ]
  },
  {
   "cell_type": "code",
   "execution_count": 24,
   "id": "9c31a397-6e05-44d0-82b7-b92c077f6a89",
   "metadata": {},
   "outputs": [
    {
     "data": {
      "text/plain": [
       "(811.8201265379383, array(753.9554760255834), 768.3228038640694)"
      ]
     },
     "execution_count": 24,
     "metadata": {},
     "output_type": "execute_result"
    }
   ],
   "source": [
    "smp.kappa_theoretical(params1), smp.angular2kappa(np.mean(df_standard.error_angle.values ** 2) ** .5), ipmag.fisher_mean(dec=df_standard.plong, inc=df_standard.plat)['k']"
   ]
  },
  {
   "cell_type": "code",
   "execution_count": 25,
   "id": "cc471054-32c0-4212-be81-928f9da34c20",
   "metadata": {},
   "outputs": [
    {
     "data": {
      "text/plain": [
       "(237.62740677517536, array(236.21030802457244), 233.98806732935884)"
      ]
     },
     "execution_count": 25,
     "metadata": {},
     "output_type": "execute_result"
    }
   ],
   "source": [
    "smp.kappa_theoretical(params2), smp.angular2kappa(np.mean(df_simple_sample.error_angle.values ** 2) ** .5),  ipmag.fisher_mean(dec=df_simple_sample.plong, inc=df_simple_sample.plat)['k']"
   ]
  },
  {
   "cell_type": "markdown",
   "id": "83c3b8bd-adcd-4a48-92ca-22139523f78a",
   "metadata": {},
   "source": [
    "Or in degrees, to make it more interpretable:"
   ]
  },
  {
   "cell_type": "code",
   "execution_count": 26,
   "id": "96e118ee-12a1-41fc-8c06-86e453f12246",
   "metadata": {},
   "outputs": [
    {
     "data": {
      "text/plain": [
       "(array(2.847712729555617), 2.9642311531638033)"
      ]
     },
     "execution_count": 26,
     "metadata": {},
     "output_type": "execute_result"
    }
   ],
   "source": [
    "smp.kappa2angular(smp.kappa_theoretical(params1)), np.mean(df_standard.error_angle.values ** 2) ** .5"
   ]
  },
  {
   "cell_type": "code",
   "execution_count": 27,
   "id": "e6f55a6b-d7da-471a-bd1f-01eeebaf2262",
   "metadata": {},
   "outputs": [
    {
     "data": {
      "text/plain": [
       "(array(5.285285767877444), 5.300798005506635)"
      ]
     },
     "execution_count": 27,
     "metadata": {},
     "output_type": "execute_result"
    }
   ],
   "source": [
    "smp.kappa2angular(smp.kappa_theoretical(params2)), np.mean(df_simple_sample.error_angle.values ** 2) ** .5"
   ]
  },
  {
   "cell_type": "markdown",
   "id": "e738f150-f7b3-4521-a4eb-862761d0efe0",
   "metadata": {},
   "source": [
    "## VGP Scatter"
   ]
  },
  {
   "cell_type": "code",
   "execution_count": null,
   "id": "a5613c55-6b92-41d1-ae31-de066a0289c7",
   "metadata": {},
   "outputs": [],
   "source": [
    "fig, axes = plt.subplots(nrows=1, ncols=1, figsize=(10,8))\n",
    "\n",
    "S2_real_standard = smp.kappa2angular(smp.kappa_from_latitude(params1.site_lat, degrees=True)) ** 2\n",
    "S2_simple_sample = smp.kappa2angular(smp.kappa_from_latitude(params2.site_lat, degrees=True)) ** 2\n",
    "\n",
    "\n",
    "sns.histplot(df_standard.S2_vgp, ax=axes, color='#e84118', stat='probability')#, binwidth=.5, binrange=(0,20), alpha=.7)\n",
    "sns.histplot(df_simple_sample.S2_vgp, ax=axes, color='#0097e6', stat='probability')#, binwidth=.5, binrange=(0,20), alpha=.7)\n",
    "\n",
    "plt.axvline(x=S2_real_standard, lw=10)\n",
    "plt.axvline(x=S2_simple_sample, lw=10)\n",
    "\n",
    "\n",
    "textstr = '\\n'.join((\n",
    "r'$RMSE Method 1=%.2f$' % (np.mean(df_standard.error_angle**2)**.5, ),\n",
    "r'$RMSE Method 2=%.2f$' % (np.mean(df_simple_sample.error_angle**2)**.5, )))\n",
    "props = dict(boxstyle='round', facecolor='wheat', alpha=0.5)\n",
    "# place a text box in upper left in axes coords\n",
    "plt.text(0.65, 0.95, textstr, transform=axes.transAxes, fontsize=14,\n",
    "        verticalalignment='top', bbox=props);"
   ]
  },
  {
   "cell_type": "code",
   "execution_count": null,
   "id": "9655aa61-728c-46aa-be84-a2c6e7f5f7c8",
   "metadata": {},
   "outputs": [],
   "source": []
  }
 ],
 "metadata": {
  "kernelspec": {
   "display_name": "Python 3 (ipykernel)",
   "language": "python",
   "name": "python3"
  },
  "language_info": {
   "codemirror_mode": {
    "name": "ipython",
    "version": 3
   },
   "file_extension": ".py",
   "mimetype": "text/x-python",
   "name": "python",
   "nbconvert_exporter": "python",
   "pygments_lexer": "ipython3",
   "version": "3.10.8"
  }
 },
 "nbformat": 4,
 "nbformat_minor": 5
}

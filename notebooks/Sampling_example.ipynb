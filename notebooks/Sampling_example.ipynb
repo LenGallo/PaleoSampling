{
 "cells": [
  {
   "cell_type": "markdown",
   "id": "08424f9f-7e8c-41b5-9fc6-5f82dbcb5d31",
   "metadata": {},
   "source": [
    "### Sampling site directional data"
   ]
  },
  {
   "cell_type": "code",
   "execution_count": 1,
   "id": "668e70af-7010-407b-97a9-16585b89f6a3",
   "metadata": {},
   "outputs": [],
   "source": [
    "import pmagpy.pmag as pmag\n",
    "import pmagpy.ipmag as ipmag\n",
    "import matplotlib.pyplot as plt\n",
    "import smpsite as smp\n",
    "\n",
    "%matplotlib inline"
   ]
  },
  {
   "cell_type": "code",
   "execution_count": 2,
   "id": "7828bea3-3d38-40f3-a140-ab9ce4ffdd05",
   "metadata": {},
   "outputs": [
    {
     "name": "stdout",
     "output_type": "stream",
     "text": [
      "CPU times: user 17.7 ms, sys: 455 µs, total: 18.2 ms\n",
      "Wall time: 28.4 ms\n"
     ]
    },
    {
     "name": "stderr",
     "output_type": "stream",
     "text": [
      "/home/jovyan/myGH/PmagPy/pmagpy/pmag.py:2596: DeprecationWarning: `np.float` is a deprecated alias for the builtin `float`. To silence this warning, use `float` by itself. Doing this will not modify any behavior and is safe. If you specifically wanted the numpy scalar type, use `np.float64` here.\n",
      "Deprecated in NumPy 1.20; for more details and guidance: https://numpy.org/devdocs/release/1.20.0-notes.html#deprecations\n",
      "  DipDir, Dip = np.ones(N, dtype=np.float).transpose(\n",
      "/home/jovyan/myGH/PmagPy/pmagpy/pmag.py:2597: DeprecationWarning: `np.float` is a deprecated alias for the builtin `float`. To silence this warning, use `float` by itself. Doing this will not modify any behavior and is safe. If you specifically wanted the numpy scalar type, use `np.float64` here.\n",
      "Deprecated in NumPy 1.20; for more details and guidance: https://numpy.org/devdocs/release/1.20.0-notes.html#deprecations\n",
      "  )*(Dbar-180.), np.ones(N, dtype=np.float).transpose()*(90.-Ibar)\n"
     ]
    }
   ],
   "source": [
    "%%time\n",
    "\n",
    "params0 = smp.Params(N=10,\n",
    "                     n0=4,\n",
    "                     kappa_within_site=100,\n",
    "                     site_lat=10, \n",
    "                     site_long=0,\n",
    "                     outlier_rate=0.10,\n",
    "                     secular_method=\"G\",\n",
    "                     kappa_secular=None)\n",
    "\n",
    "\n",
    "df_sample = smp.generate_samples(params0)"
   ]
  },
  {
   "cell_type": "code",
   "execution_count": 3,
   "id": "394be74f-d61d-4bf7-a588-e3337ad481c9",
   "metadata": {},
   "outputs": [
    {
     "data": {
      "image/png": "[encoded data removed]",
      "text/plain": [
       "<Figure size 432x288 with 1 Axes>"
      ]
     },
     "metadata": {
      "needs_background": "light"
     },
     "output_type": "display_data"
    }
   ],
   "source": [
    "plt.figure()\n",
    "ipmag.plot_net(1)\n",
    "ipmag.plot_di(dec=df_sample.vgp_long.values, inc=df_sample.vgp_lat.values)"
   ]
  },
  {
   "cell_type": "code",
   "execution_count": null,
   "id": "85c7238a-5723-4ae7-946d-c3de6f41577c",
   "metadata": {},
   "outputs": [],
   "source": []
  }
 ],
 "metadata": {
  "kernelspec": {
   "display_name": "Python [conda env:.conda-paleostats]",
   "language": "python",
   "name": "conda-env-.conda-paleostats-py"
  },
  "language_info": {
   "codemirror_mode": {
    "name": "ipython",
    "version": 3
   },
   "file_extension": ".py",
   "mimetype": "text/x-python",
   "name": "python",
   "nbconvert_exporter": "python",
   "pygments_lexer": "ipython3",
   "version": "3.10.2"
  }
 },
 "nbformat": 4,
 "nbformat_minor": 5
}

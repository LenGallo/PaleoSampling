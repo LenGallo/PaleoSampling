{
 "cells": [
  {
   "cell_type": "markdown",
   "id": "5fc66e74-33de-4cb6-84d4-78f7d2458507",
   "metadata": {},
   "source": [
    "# Parallelization with Dask"
   ]
  },
  {
   "cell_type": "code",
   "execution_count": 1,
   "id": "be704178-b377-4aad-9721-7ccfda710765",
   "metadata": {},
   "outputs": [],
   "source": [
    "import numpy as np\n",
    "import ipyparallel as ipp\n",
    "import itertools\n",
    "from distributed import progress\n",
    "import pandas as pd\n",
    "from typing import NamedTuple\n",
    "\n",
    "import smpsite as smp"
   ]
  },
  {
   "cell_type": "markdown",
   "id": "baf2420d-458c-4610-8af1-8969d94f7bbd",
   "metadata": {},
   "source": [
    "## 1. Dask Setup"
   ]
  },
  {
   "cell_type": "code",
   "execution_count": null,
   "id": "72c37c60-3c68-481e-988f-e94044ed540d",
   "metadata": {},
   "outputs": [],
   "source": [
    "number_of_clusters = 60\n",
    "\n",
    "rc = ipp.Cluster(n=number_of_clusters).start_and_connect_sync()"
   ]
  },
  {
   "cell_type": "code",
   "execution_count": null,
   "id": "b4545345-401c-47c5-9f4d-cefb312b0826",
   "metadata": {},
   "outputs": [],
   "source": [
    "dask_client = rc.become_dask()\n",
    "dask_client"
   ]
  },
  {
   "cell_type": "code",
   "execution_count": null,
   "id": "88cd514d-e7d4-4996-9f6d-00e9aa1b8068",
   "metadata": {},
   "outputs": [],
   "source": [
    "# Check to see if the threads are ready\n",
    "dview = rc[:]\n",
    "len(dview)"
   ]
  },
  {
   "cell_type": "markdown",
   "id": "373fe361-a6da-47ea-a128-3fafa86ad4cf",
   "metadata": {},
   "source": [
    "## 2. Macro function definition"
   ]
  },
  {
   "cell_type": "code",
   "execution_count": 5,
   "id": "906c0ac0-2869-40b6-9387-adea7f191202",
   "metadata": {},
   "outputs": [],
   "source": [
    "def ipp_simulate_estimations(N,\n",
    "                             n0,\n",
    "                             kappa_within_site, \n",
    "                             site_lat,\n",
    "                             site_long,\n",
    "                             outlier_rate, \n",
    "                             secular_method,\n",
    "                             kappa_secular, \n",
    "                             ignore_outliers, \n",
    "                             seed, \n",
    "                             n_sim):\n",
    "    \n",
    "    class Params(NamedTuple):\n",
    "        \"\"\"\n",
    "        Macro to encapsulate all the parameters in the sampling model.\n",
    "        \"\"\"\n",
    "\n",
    "        # Number of sites\n",
    "        N : int\n",
    "        # Number of samples per site\n",
    "        n0 : int\n",
    "\n",
    "        # Concentration parameter within site\n",
    "        kappa_within_site : float    \n",
    "\n",
    "        # Latitude and longitude of site\n",
    "        site_lat  : float \n",
    "        site_long : float\n",
    "\n",
    "        # Proportion of outliers to be sampled from uniform distribution\n",
    "        outlier_rate : float\n",
    "\n",
    "        # Method to sample secular variation. Options are (\"tk03\", \"G\", \"Fisher\")\n",
    "        secular_method : str \n",
    "        kappa_secular : float    # Just needed for Fisher sampler\n",
    "        \n",
    "        \n",
    "    params = Params(N=N,\n",
    "                    n0=n0, \n",
    "                    kappa_within_site=kappa_within_site,\n",
    "                    site_lat=site_lat, \n",
    "                    site_long=site_long, \n",
    "                    outlier_rate=outlier_rate, \n",
    "                    secular_method=secular_method,\n",
    "                    kappa_secular=kappa_secular)\n",
    "    \n",
    "    \n",
    "    # Create all samples\n",
    "    df_tot = smp.simulate_estimations(params, \n",
    "                                      n_iters=n_sim,\n",
    "                                      ignore_outliers=ignore_outliers, \n",
    "                                      seed=seed)\n",
    "    \n",
    "    simulation_hash = hash((N, n0, kappa_within_site, site_lat, site_long, outlier_rate, secular_method, kappa_secular))\n",
    "    df_tot[\"hash\"] = simulation_hash\n",
    "    \n",
    "    return df_tot"
   ]
  },
  {
   "cell_type": "markdown",
   "id": "850a9ed8-136f-451d-9a6a-35d57a96dd1a",
   "metadata": {},
   "source": [
    "## 3. Parameter space exploration"
   ]
  },
  {
   "cell_type": "markdown",
   "id": "7ef671eb-683b-4646-9e70-4372f5f50290",
   "metadata": {},
   "source": [
    "### 3.1. Figure 1"
   ]
  },
  {
   "cell_type": "code",
   "execution_count": 6,
   "id": "2a2121cb-7cc3-4d81-8e0b-d6ebf77cf83d",
   "metadata": {},
   "outputs": [],
   "source": [
    "min_n, max_n = 1, 300\n",
    "n_simulations = 10000\n",
    "N_max = 100\n",
    "n0_max = 20\n",
    "\n",
    "params_iter = {'N': np.arange(1, N_max+1, 1),\n",
    "               'n0': np.arange(1, n0_max+1, 1), \n",
    "               'kappa_within_site': 50,\n",
    "               'site_lat': [30.0],\n",
    "               'site_long': [0.0], \n",
    "               'outlier_rate': [0.0],\n",
    "               'secular_method': [\"G\"], \n",
    "               'kappa_secular': [np.nan],\n",
    "               'ignore_outliers': [False]}\n",
    "\n",
    "output_file_name = \"fig1a_bis_{}sim\".format(n_simulations)"
   ]
  },
  {
   "cell_type": "code",
   "execution_count": 7,
   "id": "445191a1-6e88-4afa-8859-e31cc26cd791",
   "metadata": {},
   "outputs": [
    {
     "name": "stdout",
     "output_type": "stream",
     "text": [
      "Total number of simulations:  824\n"
     ]
    }
   ],
   "source": [
    "params_iter_mesh = np.meshgrid(*[params_iter[key] for key in params_iter.keys()])\n",
    "\n",
    "for i, key in enumerate(params_iter.keys()):\n",
    "    params_iter[key] = params_iter_mesh[i].ravel()\n",
    "    \n",
    "all_n_tot = params_iter['N'] * params_iter['n0']\n",
    "valid_index = (min_n <= all_n_tot) & (all_n_tot <= max_n) \n",
    "\n",
    "n_tasks = np.sum(valid_index)\n",
    "print(\"Total number of simulations: \", n_tasks)\n",
    "\n",
    "indices = np.arange(n_tasks)\n",
    "np.random.shuffle(indices)\n",
    "\n",
    "for key in params_iter.keys():\n",
    "    params_iter[key] = params_iter[key][valid_index]\n",
    "    # Shuffle\n",
    "    params_iter[key] = params_iter[key][indices]\n",
    "\n",
    "params_iter[\"seed\"] = np.random.randint(0, 2**32-1, n_tasks)\n",
    "params_iter[\"n_sim\"] = np.repeat(n_simulations, n_tasks)"
   ]
  },
  {
   "cell_type": "markdown",
   "id": "a851f76d-7995-4339-a04c-4bf7e95e6466",
   "metadata": {},
   "source": [
    "### 3.2. Figure 2"
   ]
  },
  {
   "cell_type": "code",
   "execution_count": 12,
   "id": "c6ea02c9-0a7d-4475-a3a0-abe8b5fded94",
   "metadata": {},
   "outputs": [],
   "source": [
    "min_n, max_n = 50, 50\n",
    "\n",
    "params_iter = {'N': [10, 50],\n",
    "               'n0': [5, 1], \n",
    "               'kappa_within_site': np.arange(10, 101, 10),\n",
    "               'site_lat': np.arange(0, 81, 10),\n",
    "               'site_long': [0.0], \n",
    "               'outlier_rate': np.arange(0.10, 0.40, .02),\n",
    "               'secular_method': [\"G\"], \n",
    "               'kappa_secular': [np.nan],\n",
    "               'ignore_outliers': [False]}"
   ]
  },
  {
   "cell_type": "code",
   "execution_count": 13,
   "id": "ece91819-1e2c-4b77-a782-504e6175de81",
   "metadata": {},
   "outputs": [
    {
     "name": "stdout",
     "output_type": "stream",
     "text": [
      "Total number of simulations:  2880\n"
     ]
    }
   ],
   "source": [
    "params_iter_mesh = np.meshgrid(*[params_iter[key] for key in params_iter.keys()])\n",
    "\n",
    "for i, key in enumerate(params_iter.keys()):\n",
    "    params_iter[key] = params_iter_mesh[i].ravel()\n",
    "    \n",
    "all_n_tot = params_iter['N'] * params_iter['n0']\n",
    "valid_index = (min_n <= all_n_tot) & (all_n_tot <= max_n)\n",
    "\n",
    "n_tasks = np.sum(valid_index)\n",
    "print(\"Total number of simulations: \", n_tasks)\n",
    "\n",
    "indices = np.arange(n_tasks)\n",
    "np.random.shuffle(indices)\n",
    "\n",
    "for key in params_iter.keys():\n",
    "    params_iter[key] = params_iter[key][valid_index]\n",
    "    # Shuffle\n",
    "    params_iter[key] = params_iter[key][indices]\n",
    "\n",
    "params_iter[\"seed\"] = np.random.randint(0, 2**32-1, n_tasks)\n",
    "\n",
    "params_iter['ignore_outliers'] = params_iter['n0'] == 5\n",
    "params_iter[\"n_sim\"] = np.repeat(n_simulations, n_tasks)"
   ]
  },
  {
   "cell_type": "markdown",
   "id": "50f5a6e1-b874-402b-9f9a-50823c1d2b11",
   "metadata": {},
   "source": [
    "### Figure 2 - Function of N"
   ]
  },
  {
   "cell_type": "code",
   "execution_count": 14,
   "id": "7ba88de0-6892-45bf-bbb9-387d5f813570",
   "metadata": {},
   "outputs": [],
   "source": [
    "min_n, max_n = 1, 300\n",
    "\n",
    "params_iter = {'N': np.arange(min_n, max_n, 1),\n",
    "               'n0': np.arange(1, 8, 1), \n",
    "               'kappa_within_site': 50,\n",
    "               'site_lat': [30.0],\n",
    "               'site_long': [0.0], \n",
    "               'outlier_rate': [0.0],\n",
    "               'secular_method': [\"G\"], \n",
    "               'kappa_secular': [np.nan],\n",
    "               'ignore_outliers': [False]}"
   ]
  },
  {
   "cell_type": "code",
   "execution_count": 15,
   "id": "cb3196c4-b986-41a2-8a01-f2943ba51efb",
   "metadata": {},
   "outputs": [
    {
     "name": "stdout",
     "output_type": "stream",
     "text": [
      "Total number of simulations:  776\n"
     ]
    }
   ],
   "source": [
    "params_iter_mesh = np.meshgrid(*[params_iter[key] for key in params_iter.keys()])\n",
    "\n",
    "for i, key in enumerate(params_iter.keys()):\n",
    "    params_iter[key] = params_iter_mesh[i].ravel()\n",
    "    \n",
    "all_n_tot = params_iter['N'] * params_iter['n0']\n",
    "valid_index = (min_n <= all_n_tot) & (all_n_tot <= max_n) #& (all_n_tot % 5 == 0)\n",
    "\n",
    "n_tasks = np.sum(valid_index)\n",
    "print(\"Total number of simulations: \", n_tasks)\n",
    "\n",
    "indices = np.arange(n_tasks)\n",
    "np.random.shuffle(indices)\n",
    "\n",
    "for key in params_iter.keys():\n",
    "    params_iter[key] = params_iter[key][valid_index]\n",
    "    # Shuffle\n",
    "    params_iter[key] = params_iter[key][indices]\n",
    "\n",
    "params_iter[\"seed\"] = np.random.randint(0, 2**32-1, n_tasks)\n",
    "params_iter[\"n_sim\"] = np.repeat(n_simulations, n_tasks)"
   ]
  },
  {
   "cell_type": "markdown",
   "id": "dda5de51-4231-4ad4-8b38-4325c565ae49",
   "metadata": {},
   "source": [
    "### Figure 2 - Function of p"
   ]
  },
  {
   "cell_type": "code",
   "execution_count": 8,
   "id": "4284f1d8-d0c3-4f9f-987c-904ff2db021f",
   "metadata": {},
   "outputs": [
    {
     "data": {
      "text/plain": [
       "array(18.27871119933776)"
      ]
     },
     "execution_count": 8,
     "metadata": {},
     "output_type": "execute_result"
    }
   ],
   "source": [
    "smp.kappa2angular(20)"
   ]
  },
  {
   "cell_type": "code",
   "execution_count": 10,
   "id": "4fc99f83-ff29-4070-b9ec-310b3bb8e299",
   "metadata": {},
   "outputs": [
    {
     "data": {
      "text/plain": [
       "array(34.70455294405772)"
      ]
     },
     "execution_count": 10,
     "metadata": {},
     "output_type": "execute_result"
    }
   ],
   "source": [
    "smp.kappa_from_latitude(30, degrees=True)"
   ]
  },
  {
   "cell_type": "code",
   "execution_count": 16,
   "id": "3ab0378c-dba1-4331-bbfe-025dc5800302",
   "metadata": {},
   "outputs": [],
   "source": [
    "min_n, max_n = 1, 300\n",
    "k_max = 5\n",
    "n_simulations = 5000\n",
    "\n",
    "params_iter = {'N': np.arange(min_n, max_n, 1),\n",
    "               'n0': [1, k_max], \n",
    "               'kappa_within_site': 20,\n",
    "               'site_lat': [30.0],\n",
    "               'site_long': [0.0], \n",
    "               'outlier_rate': np.arange(0.0, 0.7, 0.1),\n",
    "               'secular_method': [\"G\"], \n",
    "               'kappa_secular': [np.nan],\n",
    "               'ignore_outliers': [False]}\n",
    "\n",
    "output_file_name = \"fig2b_{}sim\".format(n_simulations)"
   ]
  },
  {
   "cell_type": "code",
   "execution_count": 17,
   "id": "430827ce-0253-4f23-9a3b-2b9bf2e92b81",
   "metadata": {},
   "outputs": [
    {
     "name": "stdout",
     "output_type": "stream",
     "text": [
      "Total number of simulations:  840\n"
     ]
    }
   ],
   "source": [
    "params_iter_mesh = np.meshgrid(*[params_iter[key] for key in params_iter.keys()])\n",
    "\n",
    "for i, key in enumerate(params_iter.keys()):\n",
    "    params_iter[key] = params_iter_mesh[i].ravel()\n",
    "    \n",
    "all_n_tot = params_iter['N'] * params_iter['n0']\n",
    "valid_index = (min_n <= all_n_tot) & (all_n_tot <= max_n) & np.logical_or(all_n_tot % k_max == 0, all_n_tot == 1)\n",
    "\n",
    "n_tasks = np.sum(valid_index)\n",
    "print(\"Total number of simulations: \", n_tasks)\n",
    "\n",
    "indices = np.arange(n_tasks)\n",
    "np.random.shuffle(indices)\n",
    "\n",
    "for key in params_iter.keys():\n",
    "    params_iter[key] = params_iter[key][valid_index]\n",
    "    # Shuffle\n",
    "    params_iter[key] = params_iter[key][indices]\n",
    "\n",
    "params_iter[\"ignore_outliers\"] = params_iter[\"n0\"] == k_max\n",
    "params_iter[\"seed\"] = np.random.randint(0, 2**32-1, n_tasks)\n",
    "params_iter[\"n_sim\"] = np.repeat(n_simulations, n_tasks)"
   ]
  },
  {
   "cell_type": "markdown",
   "id": "199d442b-003e-431c-b54c-72dbacb0eaed",
   "metadata": {},
   "source": [
    "### Figure 3 - Intersection"
   ]
  },
  {
   "cell_type": "code",
   "execution_count": 18,
   "id": "3e47d735-dc96-4936-b838-784b51cb0500",
   "metadata": {},
   "outputs": [],
   "source": [
    "min_n, max_n = 40, 40\n",
    "\n",
    "params_iter = {'N': [8, 40],\n",
    "               'n0': [1, 5], \n",
    "               'kappa_within_site': 50,\n",
    "               'site_lat': [30.0],\n",
    "               'site_long': [0.0], \n",
    "               'outlier_rate': np.arange(0, 0.61, 0.02),\n",
    "               'secular_method': [\"G\"], \n",
    "               'kappa_secular': [np.nan],\n",
    "               'ignore_outliers': [False]}"
   ]
  },
  {
   "cell_type": "code",
   "execution_count": 19,
   "id": "cc8faeab-fea1-4030-9d53-58ddca719c78",
   "metadata": {},
   "outputs": [
    {
     "name": "stdout",
     "output_type": "stream",
     "text": [
      "Total number of simulations:  62\n"
     ]
    }
   ],
   "source": [
    "params_iter_mesh = np.meshgrid(*[params_iter[key] for key in params_iter.keys()])\n",
    "\n",
    "for i, key in enumerate(params_iter.keys()):\n",
    "    params_iter[key] = params_iter_mesh[i].ravel()\n",
    "    \n",
    "all_n_tot = params_iter['N'] * params_iter['n0']\n",
    "valid_index = (min_n <= all_n_tot) & (all_n_tot <= max_n) #& np.logical_or(all_n_tot % 10 == 0, all_n_tot == 1)\n",
    "\n",
    "n_tasks = np.sum(valid_index)\n",
    "print(\"Total number of simulations: \", n_tasks)\n",
    "\n",
    "indices = np.arange(n_tasks)\n",
    "np.random.shuffle(indices)\n",
    "\n",
    "for key in params_iter.keys():\n",
    "    params_iter[key] = params_iter[key][valid_index]\n",
    "    # Shuffle\n",
    "    params_iter[key] = params_iter[key][indices]\n",
    "\n",
    "params_iter[\"ignore_outliers\"] = params_iter[\"n0\"] == 5\n",
    "params_iter[\"seed\"] = np.random.randint(0, 2**32-1, n_tasks)\n",
    "params_iter[\"n_sim\"] = np.repeat(n_simulations, n_tasks)"
   ]
  },
  {
   "cell_type": "markdown",
   "id": "7e2e022b-4764-4404-9508-808e42ce1861",
   "metadata": {},
   "source": [
    "### Figure 3 - Heatmap"
   ]
  },
  {
   "cell_type": "code",
   "execution_count": null,
   "id": "44344435-ffe9-40ef-99bf-fd75ba2434f3",
   "metadata": {},
   "outputs": [],
   "source": []
  },
  {
   "cell_type": "code",
   "execution_count": null,
   "id": "5315ad6d-0654-45d1-9da2-4a71589f1f43",
   "metadata": {},
   "outputs": [],
   "source": []
  },
  {
   "cell_type": "code",
   "execution_count": null,
   "id": "f1d48e7d-0b16-427a-9127-8929fbc0ada9",
   "metadata": {},
   "outputs": [],
   "source": []
  },
  {
   "cell_type": "markdown",
   "id": "08d0337c-3fd4-430d-b641-aeaca5dbc4f6",
   "metadata": {},
   "source": [
    "## 4. Run Simulation"
   ]
  },
  {
   "cell_type": "code",
   "execution_count": 9,
   "id": "a0eaa538-bff3-4bef-affa-26a0ecc8ef09",
   "metadata": {},
   "outputs": [
    {
     "data": {
      "application/vnd.jupyter.widget-view+json": {
       "model_id": "251bbeb98c7b46c0accaf1b9d364193f",
       "version_major": 2,
       "version_minor": 0
      },
      "text/plain": [
       "VBox()"
      ]
     },
     "metadata": {},
     "output_type": "display_data"
    }
   ],
   "source": [
    "task = dask_client.map(ipp_simulate_estimations, \n",
    "                       params_iter['N'],\n",
    "                       params_iter['n0'],\n",
    "                       params_iter['kappa_within_site'], \n",
    "                       params_iter['site_lat'], \n",
    "                       params_iter['site_long'], \n",
    "                       params_iter['outlier_rate'],\n",
    "                       params_iter['secular_method'], \n",
    "                       params_iter['kappa_secular'], \n",
    "                       params_iter['ignore_outliers'], \n",
    "                       params_iter['seed'], \n",
    "                       params_iter[\"n_sim\"])\n",
    "\n",
    "res = dask_client.submit(pd.concat, task)\n",
    "\n",
    "progress(res)"
   ]
  },
  {
   "cell_type": "code",
   "execution_count": null,
   "id": "3a948948-d973-4ac1-a197-05243bd5f605",
   "metadata": {},
   "outputs": [],
   "source": [
    "%%time\n",
    "df_all = res.result()"
   ]
  },
  {
   "cell_type": "code",
   "execution_count": null,
   "id": "4b56e0f6-a800-4693-aebc-98af1299a0c4",
   "metadata": {},
   "outputs": [],
   "source": [
    "df_all"
   ]
  },
  {
   "cell_type": "code",
   "execution_count": null,
   "id": "bac6b015-586b-4298-b1f5-274eaca850d9",
   "metadata": {},
   "outputs": [],
   "source": [
    "df_all.to_csv('../outputs/' + output_file_name + '_total.csv')"
   ]
  },
  {
   "cell_type": "code",
   "execution_count": null,
   "id": "f06c43a0-9a44-4cce-9b4b-ba8f8b9abd24",
   "metadata": {},
   "outputs": [],
   "source": [
    "# Summary table\n",
    "df_summary = df_all.groupby(\"hash\", as_index=False).apply(smp.summary_simulations)\n",
    "df_summary"
   ]
  },
  {
   "cell_type": "code",
   "execution_count": null,
   "id": "14e7cb8e-ce9b-4e27-8db2-ff871c2d35ce",
   "metadata": {},
   "outputs": [],
   "source": [
    "df_summary.to_csv('../outputs/' + output_file_name + '_summary.csv')"
   ]
  },
  {
   "cell_type": "code",
   "execution_count": 15,
   "id": "359437ac-e82c-4ea3-81c8-dce0a12f356a",
   "metadata": {},
   "outputs": [
    {
     "data": {
      "text/plain": [
       "2"
      ]
     },
     "execution_count": 15,
     "metadata": {},
     "output_type": "execute_result"
    }
   ],
   "source": [
    "1 + 1"
   ]
  },
  {
   "cell_type": "code",
   "execution_count": null,
   "id": "70395fb2-8d35-434c-8f67-8c7358394fff",
   "metadata": {},
   "outputs": [],
   "source": []
  }
 ],
 "metadata": {
  "kernelspec": {
   "display_name": "Python [conda env:.conda-paleostats]",
   "language": "python",
   "name": "conda-env-.conda-paleostats-py"
  },
  "language_info": {
   "codemirror_mode": {
    "name": "ipython",
    "version": 3
   },
   "file_extension": ".py",
   "mimetype": "text/x-python",
   "name": "python",
   "nbconvert_exporter": "python",
   "pygments_lexer": "ipython3",
   "version": "3.10.2"
  }
 },
 "nbformat": 4,
 "nbformat_minor": 5
}

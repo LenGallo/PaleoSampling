{
 "cells": [
  {
   "cell_type": "markdown",
   "id": "d1dd31bc-d251-49fe-85e9-26efafac52af",
   "metadata": {},
   "source": [
    "# Paleomagnetic Sampling"
   ]
  },
  {
   "cell_type": "code",
   "execution_count": 1,
   "id": "262aa4fa-b0fb-4098-b9b2-a643b17a3787",
   "metadata": {},
   "outputs": [],
   "source": [
    "import numpy as np\n",
    "import pandas as pd\n",
    "import matplotlib.pyplot as plt\n",
    "import seaborn as sns\n",
    "\n",
    "import pmagpy.pmag as pmag\n",
    "import pmagpy.ipmag as ipmag\n",
    "\n",
    "import smpsite.smpsite as smp"
   ]
  },
  {
   "cell_type": "markdown",
   "id": "11db379a-7ec1-4b37-87d1-828d19102eff",
   "metadata": {},
   "source": [
    "## Setup \n",
    "\n",
    "Our goal is to estimate the paleomagnetic pole $\\mu$ for a given period of time or age. For doing so, we are going to recollec a number $N_k$ samples from $K$ different sites, $k=1,2,\\ldots,K$. For each site, consequence of secular variation, we are not observing directly $\\mu$, but instead $\\mu_k$ as a result of secular variations of the magnetic field. If we compute the Fisher mean $\\hat \\mu_k$ (the hat symbol will be used always for statistical inferences, in opposition to the _true_ value of the pole), then we hope that the new Fisher mean $\\hat \\mu$ of the $\\hat \\mu_k$s will give us a estimate for the paleomagnetic poles that will average out the secular variation. The question we are trying to address here is what is the best recollection design of the $N = N_1 + \\ldots + N_K$ sample poles that will lead to a better estimation of the final paleomagnetic pole $\\mu$. \n",
    "\n",
    "We are going to consider the following statistical model for how the sample poles are generated. \n",
    "$$\n",
    "\\mu_k \\sim \\text{Fisher}(\\mu, \\kappa_\\text{secular}) \\quad k=1,2,\\ldots,K\n",
    "$$\n",
    "$$\n",
    "x_{k,j} \\sim \\text{Fisher}(\\mu_k, \\kappa_\\text{vgp}) \\quad \\text{with probability $1-p$ and } \n",
    "$$\n",
    "$$\n",
    "x_{k,j} \\sim \\text{Unif}(S^2) \\quad \\text{otherwise} \\quad j=1,2,\\ldots,N_k,\n",
    "$$\n",
    "where $\\kappa_\\text{secular}$ and $\\kappa_\\text{vgp}$ are the dispersion parameters of the Fisher distribution. The parameter $p$ has been added to quantify the effect of outliers in the sampling process. With probability $1-p$ we are going to observe a verical sample of the magnetic field, while with probability $p$ our sample will be corrupted and instead we will observe an spourious medition, modelled by an uniform distribution on the sphere, that is, no information at all about the orientation of the true field. \n",
    "\n",
    "We are going to compare two different strategies for estimating the paleomagnetic pole $\\mu$:\n",
    "- Method 1: Compute the Fisher mean of ALL the sample points afor each site and then compute a second Fisher mean of these site vgps to obtain a final estimation of the true paleomagnetic pole.\n",
    "- Method 2: Assume we are perfectly able to detect outliers, so we can repeat Method 1 after removing those sample points that are clearly ourliers. \n",
    "\n",
    "Since we want to know what is the choice of $N_1, N_2, \\ldots, N_K$ that will lead to the best estimation of the paleomagnetic pole, we are going to compare these two methods for different strategies. For example, if $N_k$ is large enought then we may be in the case where we can use Method 2, and then we will compare it with the performance of Method 1 when $N_1 = \\ldots = N_K = 1$, for example."
   ]
  },
  {
   "cell_type": "code",
   "execution_count": 2,
   "id": "5c16ca97-32cc-4cab-8afc-9d5a8b6ab1e2",
   "metadata": {},
   "outputs": [
    {
     "ename": "ValueError",
     "evalue": "zero-dimensional arrays cannot be concatenated",
     "output_type": "error",
     "traceback": [
      "\u001b[0;31m---------------------------------------------------------------------------\u001b[0m",
      "\u001b[0;31mValueError\u001b[0m                                Traceback (most recent call last)",
      "File \u001b[0;32m<timed exec>:21\u001b[0m, in \u001b[0;36m<module>\u001b[0;34m\u001b[0m\n",
      "File \u001b[0;32m~/Dropbox/TRABAJOS/PROJECTS/PaleoSampling/smpsite/smpsite/sampling.py:122\u001b[0m, in \u001b[0;36msimulate_estimations\u001b[0;34m(params, n_iters, ignore_outliers, seed)\u001b[0m\n\u001b[1;32m    118\u001b[0m     np\u001b[38;5;241m.\u001b[39mrandom\u001b[38;5;241m.\u001b[39mseed(seed)\n\u001b[1;32m    120\u001b[0m \u001b[38;5;28;01mfor\u001b[39;00m _ \u001b[38;5;129;01min\u001b[39;00m \u001b[38;5;28mrange\u001b[39m(n_iters):\n\u001b[0;32m--> 122\u001b[0m     df_sample \u001b[38;5;241m=\u001b[39m \u001b[43mgenerate_samples\u001b[49m\u001b[43m(\u001b[49m\u001b[43mparams\u001b[49m\u001b[43m)\u001b[49m\n\u001b[1;32m    123\u001b[0m     pole_dec, pole_inc, total_samples \u001b[38;5;241m=\u001b[39m estimate_pole(df_sample, ignore_outliers\u001b[38;5;241m=\u001b[39mignore_outliers)\n\u001b[1;32m    124\u001b[0m     poles_dec\u001b[38;5;241m.\u001b[39mappend(pole_dec)\n",
      "File \u001b[0;32m~/Dropbox/TRABAJOS/PROJECTS/PaleoSampling/smpsite/smpsite/sampling.py:97\u001b[0m, in \u001b[0;36mgenerate_samples\u001b[0;34m(params)\u001b[0m\n\u001b[1;32m     94\u001b[0m \u001b[38;5;66;03m# Sample VGP outliers (same as sampling a direction and then transform to VGP)\u001b[39;00m\n\u001b[1;32m     95\u001b[0m vgp_lon_out, vgp_lat_out \u001b[38;5;241m=\u001b[39m pmag\u001b[38;5;241m.\u001b[39mget_unf(n_outliers)\u001b[38;5;241m.\u001b[39mT\n\u001b[0;32m---> 97\u001b[0m vgp_lon \u001b[38;5;241m=\u001b[39m \u001b[43mnp\u001b[49m\u001b[38;5;241;43m.\u001b[39;49m\u001b[43mconcatenate\u001b[49m\u001b[43m(\u001b[49m\u001b[43m(\u001b[49m\u001b[43mvgp_lon\u001b[49m\u001b[43m,\u001b[49m\u001b[43m \u001b[49m\u001b[43mvgp_lon_out\u001b[49m\u001b[43m)\u001b[49m\u001b[43m)\u001b[49m\n\u001b[1;32m     98\u001b[0m vgp_lat \u001b[38;5;241m=\u001b[39m np\u001b[38;5;241m.\u001b[39mconcatenate((vgp_lat, vgp_lat_out))\n\u001b[1;32m    100\u001b[0m df_ \u001b[38;5;241m=\u001b[39m pd\u001b[38;5;241m.\u001b[39mDataFrame({\u001b[38;5;124m'\u001b[39m\u001b[38;5;124msample_site\u001b[39m\u001b[38;5;124m'\u001b[39m: i,\n\u001b[1;32m    101\u001b[0m                     \u001b[38;5;124m'\u001b[39m\u001b[38;5;124mvgp_lon\u001b[39m\u001b[38;5;124m'\u001b[39m: vgp_lon,\n\u001b[1;32m    102\u001b[0m                     \u001b[38;5;124m'\u001b[39m\u001b[38;5;124mvgp_lat\u001b[39m\u001b[38;5;124m'\u001b[39m: vgp_lat,\n\u001b[1;32m    103\u001b[0m                     \u001b[38;5;124m'\u001b[39m\u001b[38;5;124mis_outlier\u001b[39m\u001b[38;5;124m'\u001b[39m: outliers})\n",
      "File \u001b[0;32m<__array_function__ internals>:5\u001b[0m, in \u001b[0;36mconcatenate\u001b[0;34m(*args, **kwargs)\u001b[0m\n",
      "\u001b[0;31mValueError\u001b[0m: zero-dimensional arrays cannot be concatenated"
     ]
    }
   ],
   "source": [
    "%%time\n",
    "\n",
    "kappa_within_site = 10\n",
    "latitude = 30\n",
    "outlier_rate = 0.05\n",
    "N = 70\n",
    "n_iters = 1000\n",
    "\n",
    "params1 = smp.Params(kappa_within_site=kappa_within_site,\n",
    "                 site_lat=latitude,\n",
    "                 outlier_rate=outlier_rate,\n",
    "                 N_per_site=5,\n",
    "                 N=N, \n",
    "                 site_long=0.0)\n",
    "\n",
    "params2 = smp.Params(kappa_within_site=kappa_within_site,\n",
    "                 site_lat=latitude,\n",
    "                 outlier_rate=outlier_rate,\n",
    "                 N_per_site=1,\n",
    "                 N=N,\n",
    "                 site_long=0.0)\n",
    "\n",
    "df_standard = smp.simulate_estimations(params1, n_iters=n_iters, ignore_outliers=True)\n",
    "df_simple_sample = smp.simulate_estimations(params2, n_iters=n_iters, ignore_outliers=False)"
   ]
  },
  {
   "cell_type": "code",
   "execution_count": 55,
   "id": "f0863458-1d3d-421f-8c50-d1cb25782446",
   "metadata": {},
   "outputs": [
    {
     "name": "stdout",
     "output_type": "stream",
     "text": [
      "ERROR! Session/line number was not unique in database. History logging moved to new session 988\n"
     ]
    },
    {
     "ename": "NameError",
     "evalue": "name 'df_standard' is not defined",
     "output_type": "error",
     "traceback": [
      "\u001b[0;31m---------------------------------------------------------------------------\u001b[0m",
      "\u001b[0;31mNameError\u001b[0m                                 Traceback (most recent call last)",
      "Input \u001b[0;32mIn [55]\u001b[0m, in \u001b[0;36m<cell line: 3>\u001b[0;34m()\u001b[0m\n\u001b[1;32m      1\u001b[0m fig, axes \u001b[38;5;241m=\u001b[39m plt\u001b[38;5;241m.\u001b[39msubplots(nrows\u001b[38;5;241m=\u001b[39m\u001b[38;5;241m1\u001b[39m, ncols\u001b[38;5;241m=\u001b[39m\u001b[38;5;241m1\u001b[39m, figsize\u001b[38;5;241m=\u001b[39m(\u001b[38;5;241m10\u001b[39m,\u001b[38;5;241m8\u001b[39m))\n\u001b[0;32m----> 3\u001b[0m sns\u001b[38;5;241m.\u001b[39mhistplot(\u001b[43mdf_standard\u001b[49m\u001b[38;5;241m.\u001b[39merror_angle, ax\u001b[38;5;241m=\u001b[39maxes, color\u001b[38;5;241m=\u001b[39m\u001b[38;5;124m'\u001b[39m\u001b[38;5;124m#e84118\u001b[39m\u001b[38;5;124m'\u001b[39m, stat\u001b[38;5;241m=\u001b[39m\u001b[38;5;124m'\u001b[39m\u001b[38;5;124mprobability\u001b[39m\u001b[38;5;124m'\u001b[39m, binwidth\u001b[38;5;241m=\u001b[39m\u001b[38;5;241m5\u001b[39m, binrange\u001b[38;5;241m=\u001b[39m(\u001b[38;5;241m0\u001b[39m,\u001b[38;5;241m180\u001b[39m), alpha\u001b[38;5;241m=\u001b[39m\u001b[38;5;241m.7\u001b[39m)\n\u001b[1;32m      4\u001b[0m sns\u001b[38;5;241m.\u001b[39mhistplot(df_simple_sample\u001b[38;5;241m.\u001b[39merror_angle, ax\u001b[38;5;241m=\u001b[39maxes, color\u001b[38;5;241m=\u001b[39m\u001b[38;5;124m'\u001b[39m\u001b[38;5;124m#0097e6\u001b[39m\u001b[38;5;124m'\u001b[39m, stat\u001b[38;5;241m=\u001b[39m\u001b[38;5;124m'\u001b[39m\u001b[38;5;124mprobability\u001b[39m\u001b[38;5;124m'\u001b[39m, binwidth\u001b[38;5;241m=\u001b[39m\u001b[38;5;241m5\u001b[39m, binrange\u001b[38;5;241m=\u001b[39m(\u001b[38;5;241m0\u001b[39m,\u001b[38;5;241m180\u001b[39m), alpha\u001b[38;5;241m=\u001b[39m\u001b[38;5;241m.7\u001b[39m)\n\u001b[1;32m      6\u001b[0m textstr \u001b[38;5;241m=\u001b[39m \u001b[38;5;124m'\u001b[39m\u001b[38;5;130;01m\\n\u001b[39;00m\u001b[38;5;124m'\u001b[39m\u001b[38;5;241m.\u001b[39mjoin((\n\u001b[1;32m      7\u001b[0m \u001b[38;5;124mr\u001b[39m\u001b[38;5;124m'\u001b[39m\u001b[38;5;124m$RMSE Method 1=\u001b[39m\u001b[38;5;132;01m%.2f\u001b[39;00m\u001b[38;5;124m$\u001b[39m\u001b[38;5;124m'\u001b[39m \u001b[38;5;241m%\u001b[39m (np\u001b[38;5;241m.\u001b[39mmean(df_standard\u001b[38;5;241m.\u001b[39merror_angle\u001b[38;5;241m*\u001b[39m\u001b[38;5;241m*\u001b[39m\u001b[38;5;241m2\u001b[39m)\u001b[38;5;241m*\u001b[39m\u001b[38;5;241m*\u001b[39m\u001b[38;5;241m.5\u001b[39m, ),\n\u001b[1;32m      8\u001b[0m \u001b[38;5;124mr\u001b[39m\u001b[38;5;124m'\u001b[39m\u001b[38;5;124m$RMSE Method 2=\u001b[39m\u001b[38;5;132;01m%.2f\u001b[39;00m\u001b[38;5;124m$\u001b[39m\u001b[38;5;124m'\u001b[39m \u001b[38;5;241m%\u001b[39m (np\u001b[38;5;241m.\u001b[39mmean(df_simple_sample\u001b[38;5;241m.\u001b[39merror_angle\u001b[38;5;241m*\u001b[39m\u001b[38;5;241m*\u001b[39m\u001b[38;5;241m2\u001b[39m)\u001b[38;5;241m*\u001b[39m\u001b[38;5;241m*\u001b[39m\u001b[38;5;241m.5\u001b[39m, )))\n",
      "\u001b[0;31mNameError\u001b[0m: name 'df_standard' is not defined"
     ]
    },
    {
     "data": {
      "image/png": "[encoded data removed]",
      "text/plain": [
       "<Figure size 720x576 with 1 Axes>"
      ]
     },
     "metadata": {
      "needs_background": "light"
     },
     "output_type": "display_data"
    }
   ],
   "source": [
    "fig, axes = plt.subplots(nrows=1, ncols=1, figsize=(10,8))\n",
    "\n",
    "sns.histplot(df_standard.error_angle, ax=axes, color='#e84118', stat='probability', binwidth=5, binrange=(0,180), alpha=.7)\n",
    "sns.histplot(df_simple_sample.error_angle, ax=axes, color='#0097e6', stat='probability', binwidth=5, binrange=(0,180), alpha=.7)\n",
    "\n",
    "textstr = '\\n'.join((\n",
    "r'$RMSE Method 1=%.2f$' % (np.mean(df_standard.error_angle**2)**.5, ),\n",
    "r'$RMSE Method 2=%.2f$' % (np.mean(df_simple_sample.error_angle**2)**.5, )))\n",
    "props = dict(boxstyle='round', facecolor='wheat', alpha=0.5)\n",
    "# place a text box in upper left in axes coords\n",
    "plt.text(0.65, 0.95, textstr, transform=axes.transAxes, fontsize=14,\n",
    "        verticalalignment='top', bbox=props);"
   ]
  },
  {
   "cell_type": "code",
   "execution_count": 19,
   "id": "debbb849-7b99-42b3-9d2e-a3f4f7a770e9",
   "metadata": {},
   "outputs": [],
   "source": [
    "params1 = smp.Params(kappa_within_site=kappa_vgp,\n",
    "                 \n",
    "                 outlier_rate=0.1,\n",
    "                 N_per_site=5,\n",
    "                 N=100,\n",
    "                 site_lat=50.0, \n",
    "                 site_long=0.0)"
   ]
  },
  {
   "cell_type": "code",
   "execution_count": 21,
   "id": "b391e0e5-6838-4b20-a479-78b991400d75",
   "metadata": {},
   "outputs": [
    {
     "name": "stdout",
     "output_type": "stream",
     "text": [
      "0 5\n",
      "1 5\n",
      "2 5\n",
      "3 5\n",
      "4 5\n",
      "5 5\n",
      "6 5\n",
      "7 5\n",
      "8 5\n",
      "9 5\n",
      "10 5\n",
      "11 5\n",
      "12 5\n",
      "13 5\n",
      "14 5\n",
      "15 5\n",
      "16 5\n",
      "17 5\n",
      "18 5\n",
      "19 5\n"
     ]
    }
   ],
   "source": [
    "design = smp.generate_design(params1)\n",
    "design\n",
    "for i, nk in enumerate(design):\n",
    "    print(i, nk)"
   ]
  },
  {
   "cell_type": "code",
   "execution_count": null,
   "id": "686f3c76-20aa-4e21-99cc-1d5789c486d2",
   "metadata": {},
   "outputs": [],
   "source": []
  },
  {
   "cell_type": "code",
   "execution_count": 48,
   "id": "a13ccc53-8ec8-4bcf-b267-ed5139234d05",
   "metadata": {},
   "outputs": [
    {
     "name": "stdout",
     "output_type": "stream",
     "text": [
      "38.44693568551692 53.16487154657384 30464.714607028898\n",
      "16.60664727575827 53.94171908981154 28093.001305274287\n",
      "4.03406558419721 63.280187061780325 30108.408664459737\n",
      "354.0421091748628 49.52047731212363 31604.76267120668\n",
      "345.9692933778522 67.50773558726097 34597.74798090689\n",
      "354.25987402876467 62.32054780377285 36125.2686568209\n",
      "312.4868420790086 81.632964312786 19517.512551122803\n",
      "344.79997348022795 78.22430234415809 27321.722306161886\n",
      "12.444389396301894 53.93541229234997 23719.860747491293\n",
      "40.876318456315126 58.965532610818045 24517.27552070276\n"
     ]
    }
   ],
   "source": [
    "directions_tk03 = ipmag.tk03(n=10, dec=0, lat=45, rev='no', G1=-18e3, G2=0, G3=0, B_threshold=0)\n",
    "for lat, long, intensity in directions_tk03:\n",
    "    print(lat, long, intens)"
   ]
  },
  {
   "cell_type": "code",
   "execution_count": 49,
   "id": "65413b51-eebf-4c96-bde1-8dfdae72066c",
   "metadata": {},
   "outputs": [],
   "source": [
    "trans_dec, trans_inc, _, _ = pmag.dia_vgp([0,0], [45,45], 0, 45, 0)\n"
   ]
  },
  {
   "cell_type": "code",
   "execution_count": 50,
   "id": "23c44939-fdb7-4833-9840-de3c6aecfea6",
   "metadata": {},
   "outputs": [
    {
     "data": {
      "text/plain": [
       "([180.0, 180.0],\n",
       " [71.56505117707799, 71.56505117707799],\n",
       " [0.0, 0.0],\n",
       " [0.0, 0.0])"
      ]
     },
     "execution_count": 50,
     "metadata": {},
     "output_type": "execute_result"
    }
   ],
   "source": [
    "trans_dec, trans_inc, _, _ "
   ]
  },
  {
   "cell_type": "code",
   "execution_count": null,
   "id": "88bcf836-8850-4031-9ace-ceb7288f5fd6",
   "metadata": {},
   "outputs": [],
   "source": []
  }
 ],
 "metadata": {
  "kernelspec": {
   "display_name": "Python 3 (ipykernel)",
   "language": "python",
   "name": "python3"
  },
  "language_info": {
   "codemirror_mode": {
    "name": "ipython",
    "version": 3
   },
   "file_extension": ".py",
   "mimetype": "text/x-python",
   "name": "python",
   "nbconvert_exporter": "python",
   "pygments_lexer": "ipython3",
   "version": "3.10.0"
  }
 },
 "nbformat": 4,
 "nbformat_minor": 5
}

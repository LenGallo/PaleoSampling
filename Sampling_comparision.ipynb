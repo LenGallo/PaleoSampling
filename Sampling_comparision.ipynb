{
 "cells": [
  {
   "cell_type": "markdown",
   "id": "d1dd31bc-d251-49fe-85e9-26efafac52af",
   "metadata": {},
   "source": [
    "# Paleomagnetic Sampling"
   ]
  },
  {
   "cell_type": "code",
   "execution_count": 1,
   "id": "262aa4fa-b0fb-4098-b9b2-a643b17a3787",
   "metadata": {},
   "outputs": [],
   "source": [
    "import numpy as np\n",
    "import pandas as pd\n",
    "import matplotlib.pyplot as plt\n",
    "import seaborn as sns\n",
    "\n",
    "import pmagpy.pmag as pmag\n",
    "import pmagpy.ipmag as ipmag\n",
    "\n",
    "import smpsite.smpsite as smp"
   ]
  },
  {
   "cell_type": "markdown",
   "id": "11db379a-7ec1-4b37-87d1-828d19102eff",
   "metadata": {},
   "source": [
    "## Setup \n",
    "\n",
    "Our goal is to estimate the paleomagnetic pole $\\mu$ for a given period of time or age. For doing so, we are going to recollec a number $N_k$ samples from $K$ different sites, $k=1,2,\\ldots,K$. For each site, consequence of secular variation, we are not observing directly $\\mu$, but instead $\\mu_k$ as a result of secular variations of the magnetic field. If we compute the Fisher mean $\\hat \\mu_k$ (the hat symbol will be used always for statistical inferences, in opposition to the _true_ value of the pole), then we hope that the new Fisher mean $\\hat \\mu$ of the $\\hat \\mu_k$s will give us a estimate for the paleomagnetic poles that will average out the secular variation. The question we are trying to address here is what is the best recollection design of the $N = N_1 + \\ldots + N_K$ sample poles that will lead to a better estimation of the final paleomagnetic pole $\\mu$. \n",
    "\n",
    "We are going to consider the following statistical model for how the sample poles are generated. \n",
    "$$\n",
    "\\mu_k \\sim \\text{Fisher}(\\mu, \\kappa_\\text{secular}) \\quad k=1,2,\\ldots,K\n",
    "$$\n",
    "$$\n",
    "x_{k,j} \\sim \\text{Fisher}(\\mu_k, \\kappa_\\text{vgp}) \\quad \\text{with probability $1-p$ and } \n",
    "$$\n",
    "$$\n",
    "x_{k,j} \\sim \\text{Unif}(S^2) \\quad \\text{otherwise} \\quad j=1,2,\\ldots,N_k,\n",
    "$$\n",
    "where $\\kappa_\\text{secular}$ and $\\kappa_\\text{vgp}$ are the dispersion parameters of the Fisher distribution. The parameter $p$ has been added to quantify the effect of outliers in the sampling process. With probability $1-p$ we are going to observe a verical sample of the magnetic field, while with probability $p$ our sample will be corrupted and instead we will observe an spourious medition, modelled by an uniform distribution on the sphere, that is, no information at all about the orientation of the true field. \n",
    "\n",
    "We are going to compare two different strategies for estimating the paleomagnetic pole $\\mu$:\n",
    "- Method 1: Compute the Fisher mean of ALL the sample points afor each site and then compute a second Fisher mean of these site vgps to obtain a final estimation of the true paleomagnetic pole.\n",
    "- Method 2: Assume we are perfectly able to detect outliers, so we can repeat Method 1 after removing those sample points that are clearly ourliers. \n",
    "\n",
    "Since we want to know what is the choice of $N_1, N_2, \\ldots, N_K$ that will lead to the best estimation of the paleomagnetic pole, we are going to compare these two methods for different strategies. For example, if $N_k$ is large enought then we may be in the case where we can use Method 2, and then we will compare it with the performance of Method 1 when $N_1 = \\ldots = N_K = 1$, for example."
   ]
  },
  {
   "cell_type": "code",
   "execution_count": 4,
   "id": "5c16ca97-32cc-4cab-8afc-9d5a8b6ab1e2",
   "metadata": {},
   "outputs": [
    {
     "name": "stdout",
     "output_type": "stream",
     "text": [
      "CPU times: user 3min 31s, sys: 552 ms, total: 3min 32s\n",
      "Wall time: 3min 32s\n"
     ]
    }
   ],
   "source": [
    "%%time\n",
    "\n",
    "kappa_within_site = 10\n",
    "latitude = 45\n",
    "outlier_rate = 0.05\n",
    "N = 100\n",
    "n_iters = 1000\n",
    "\n",
    "params1 = smp.Params(kappa_within_site=kappa_within_site,\n",
    "                 site_lat=latitude,\n",
    "                 outlier_rate=outlier_rate,\n",
    "                 N_per_site=2,\n",
    "                 N=N, \n",
    "                 site_long=0.0)\n",
    "\n",
    "params2 = smp.Params(kappa_within_site=kappa_within_site,\n",
    "                 site_lat=latitude,\n",
    "                 outlier_rate=outlier_rate,\n",
    "                 N_per_site=1,\n",
    "                 N=N,\n",
    "                 site_long=0.0)\n",
    "\n",
    "df_standard = smp.simulate_estimations(params1, n_iters=n_iters, ignore_outliers=True)\n",
    "df_simple_sample = smp.simulate_estimations(params2, n_iters=n_iters, ignore_outliers=False)"
   ]
  },
  {
   "cell_type": "code",
   "execution_count": 5,
   "id": "f0863458-1d3d-421f-8c50-d1cb25782446",
   "metadata": {},
   "outputs": [
    {
     "data": {
      "image/png": "[encoded data removed]",
      "text/plain": [
       "<Figure size 720x576 with 1 Axes>"
      ]
     },
     "metadata": {
      "needs_background": "light"
     },
     "output_type": "display_data"
    }
   ],
   "source": [
    "fig, axes = plt.subplots(nrows=1, ncols=1, figsize=(10,8))\n",
    "\n",
    "sns.histplot(df_standard.error_angle, ax=axes, color='#e84118', stat='probability')#, binwidth=5, binrange=(0,90), alpha=.7)\n",
    "sns.histplot(df_simple_sample.error_angle, ax=axes, color='#0097e6', stat='probability')#, binwidth=5, binrange=(0,90), alpha=.7)\n",
    "\n",
    "textstr = '\\n'.join((\n",
    "r'$RMSE Method 1=%.2f$' % (np.mean(df_standard.error_angle**2)**.5, ),\n",
    "r'$RMSE Method 2=%.2f$' % (np.mean(df_simple_sample.error_angle**2)**.5, )))\n",
    "props = dict(boxstyle='round', facecolor='wheat', alpha=0.5)\n",
    "# place a text box in upper left in axes coords\n",
    "plt.text(0.65, 0.95, textstr, transform=axes.transAxes, fontsize=14,\n",
    "        verticalalignment='top', bbox=props);"
   ]
  },
  {
   "cell_type": "code",
   "execution_count": null,
   "id": "7a83078d-1ae2-4c2a-bef9-74bcdc0abad9",
   "metadata": {},
   "outputs": [],
   "source": []
  }
 ],
 "metadata": {
  "kernelspec": {
   "display_name": "Python 3 (ipykernel)",
   "language": "python",
   "name": "python3"
  },
  "language_info": {
   "codemirror_mode": {
    "name": "ipython",
    "version": 3
   },
   "file_extension": ".py",
   "mimetype": "text/x-python",
   "name": "python",
   "nbconvert_exporter": "python",
   "pygments_lexer": "ipython3",
   "version": "3.10.0"
  }
 },
 "nbformat": 4,
 "nbformat_minor": 5
}

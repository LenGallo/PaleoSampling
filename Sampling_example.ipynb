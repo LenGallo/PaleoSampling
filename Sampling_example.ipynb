{
 "cells": [
  {
   "cell_type": "markdown",
   "id": "08424f9f-7e8c-41b5-9fc6-5f82dbcb5d31",
   "metadata": {},
   "source": [
    "### Sampling site directional data"
   ]
  },
  {
   "cell_type": "code",
   "execution_count": 6,
   "id": "668e70af-7010-407b-97a9-16585b89f6a3",
   "metadata": {},
   "outputs": [],
   "source": [
    "import pmagpy.pmag as pmag\n",
    "import pmagpy.ipmag as ipmag\n",
    "\n",
    "import smpsite.smpsite as smp"
   ]
  },
  {
   "cell_type": "code",
   "execution_count": 4,
   "id": "fd07b4a9-2715-4057-8c84-beb8434a09f8",
   "metadata": {},
   "outputs": [
    {
     "data": {
      "text/html": [
       "<div>\n",
       "<style scoped>\n",
       "    .dataframe tbody tr th:only-of-type {\n",
       "        vertical-align: middle;\n",
       "    }\n",
       "\n",
       "    .dataframe tbody tr th {\n",
       "        vertical-align: top;\n",
       "    }\n",
       "\n",
       "    .dataframe thead th {\n",
       "        text-align: right;\n",
       "    }\n",
       "</style>\n",
       "<table border=\"1\" class=\"dataframe\">\n",
       "  <thead>\n",
       "    <tr style=\"text-align: right;\">\n",
       "      <th></th>\n",
       "      <th>sample_site</th>\n",
       "      <th>declination</th>\n",
       "      <th>inclination</th>\n",
       "      <th>is_outlier</th>\n",
       "    </tr>\n",
       "  </thead>\n",
       "  <tbody>\n",
       "    <tr>\n",
       "      <th>0</th>\n",
       "      <td>0</td>\n",
       "      <td>105.965355</td>\n",
       "      <td>54.006125</td>\n",
       "      <td>0</td>\n",
       "    </tr>\n",
       "    <tr>\n",
       "      <th>1</th>\n",
       "      <td>0</td>\n",
       "      <td>101.882953</td>\n",
       "      <td>51.021415</td>\n",
       "      <td>0</td>\n",
       "    </tr>\n",
       "    <tr>\n",
       "      <th>2</th>\n",
       "      <td>0</td>\n",
       "      <td>101.630840</td>\n",
       "      <td>51.062236</td>\n",
       "      <td>0</td>\n",
       "    </tr>\n",
       "    <tr>\n",
       "      <th>3</th>\n",
       "      <td>0</td>\n",
       "      <td>100.389277</td>\n",
       "      <td>45.617901</td>\n",
       "      <td>0</td>\n",
       "    </tr>\n",
       "    <tr>\n",
       "      <th>4</th>\n",
       "      <td>0</td>\n",
       "      <td>105.142213</td>\n",
       "      <td>50.650468</td>\n",
       "      <td>0</td>\n",
       "    </tr>\n",
       "    <tr>\n",
       "      <th>...</th>\n",
       "      <td>...</td>\n",
       "      <td>...</td>\n",
       "      <td>...</td>\n",
       "      <td>...</td>\n",
       "    </tr>\n",
       "    <tr>\n",
       "      <th>65</th>\n",
       "      <td>6</td>\n",
       "      <td>147.326354</td>\n",
       "      <td>23.770219</td>\n",
       "      <td>0</td>\n",
       "    </tr>\n",
       "    <tr>\n",
       "      <th>66</th>\n",
       "      <td>6</td>\n",
       "      <td>148.094152</td>\n",
       "      <td>29.651238</td>\n",
       "      <td>0</td>\n",
       "    </tr>\n",
       "    <tr>\n",
       "      <th>67</th>\n",
       "      <td>6</td>\n",
       "      <td>153.583369</td>\n",
       "      <td>26.497572</td>\n",
       "      <td>0</td>\n",
       "    </tr>\n",
       "    <tr>\n",
       "      <th>68</th>\n",
       "      <td>6</td>\n",
       "      <td>153.629929</td>\n",
       "      <td>28.007678</td>\n",
       "      <td>0</td>\n",
       "    </tr>\n",
       "    <tr>\n",
       "      <th>69</th>\n",
       "      <td>6</td>\n",
       "      <td>154.808269</td>\n",
       "      <td>35.358542</td>\n",
       "      <td>0</td>\n",
       "    </tr>\n",
       "  </tbody>\n",
       "</table>\n",
       "<p>70 rows × 4 columns</p>\n",
       "</div>"
      ],
      "text/plain": [
       "    sample_site  declination  inclination  is_outlier\n",
       "0             0   105.965355    54.006125           0\n",
       "1             0   101.882953    51.021415           0\n",
       "2             0   101.630840    51.062236           0\n",
       "3             0   100.389277    45.617901           0\n",
       "4             0   105.142213    50.650468           0\n",
       "..          ...          ...          ...         ...\n",
       "65            6   147.326354    23.770219           0\n",
       "66            6   148.094152    29.651238           0\n",
       "67            6   153.583369    26.497572           0\n",
       "68            6   153.629929    28.007678           0\n",
       "69            6   154.808269    35.358542           0\n",
       "\n",
       "[70 rows x 4 columns]"
      ]
     },
     "metadata": {},
     "output_type": "display_data"
    },
    {
     "data": {
      "image/png": "[encoded data removed]",
      "text/plain": [
       "<Figure size 432x288 with 1 Axes>"
      ]
     },
     "metadata": {
      "needs_background": "light"
     },
     "output_type": "display_data"
    }
   ],
   "source": [
    "params0 = smp.Params(kappa_vgp=1000,\n",
    "                     kappa_secular=2,\n",
    "                     outlier_rate=0.0,\n",
    "                     N_per_site=10,\n",
    "                     N=70,\n",
    "                     site_lat=5.0, \n",
    "                     site_long=0.0)\n",
    "\n",
    "df_sample = smp.generate_samples(params0)\n",
    "display(df_sample)\n",
    "\n",
    "ipmag.plot_net(1)\n",
    "ipmag.plot_di(dec=df_sample.declination.values, inc=df_sample.inclination.values)"
   ]
  },
  {
   "cell_type": "code",
   "execution_count": 8,
   "id": "1f6562bb-8422-45b0-bb0b-511d7601d5e7",
   "metadata": {},
   "outputs": [
    {
     "data": {
      "text/plain": [
       "array(8.27912161967408)"
      ]
     },
     "execution_count": 8,
     "metadata": {},
     "output_type": "execute_result"
    }
   ],
   "source": [
    "smp.kappa2angular(100)"
   ]
  },
  {
   "cell_type": "code",
   "execution_count": null,
   "id": "ace06081-e2ac-4f2d-887c-c9e6f3513840",
   "metadata": {},
   "outputs": [],
   "source": []
  }
 ],
 "metadata": {
  "kernelspec": {
   "display_name": "Python [conda env:.conda-paleostats]",
   "language": "python",
   "name": "conda-env-.conda-paleostats-py"
  },
  "language_info": {
   "codemirror_mode": {
    "name": "ipython",
    "version": 3
   },
   "file_extension": ".py",
   "mimetype": "text/x-python",
   "name": "python",
   "nbconvert_exporter": "python",
   "pygments_lexer": "ipython3",
   "version": "3.10.2"
  }
 },
 "nbformat": 4,
 "nbformat_minor": 5
}
